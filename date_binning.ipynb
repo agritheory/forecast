{
 "cells": [
  {
   "cell_type": "markdown",
   "id": "e9c5329b",
   "metadata": {},
   "source": [
    "# Test Environment for Date Binning\n",
    "\n",
    "Addresses issue #8 in the [forecast repo](https://github.com/agritheory/forecast/issues/8):\n",
    "\n",
    ">Having a date/period binning utility would be really handy for this project. Some high level requirements:\n",
    ">\n",
    ">- Arbitrary start and end dates, able to consume or output partial periods\n",
    ">- Establish patterns around periodicity:\n",
    ">    - Week with arbitrary weekday start vs ISO week\n",
    ">    - Calendar month with remainders (EG Jan 15 to Mar 15, binning by calendar month would return a bin with Jan 15-31, Feb 1-28, Mar 1-15)\n",
    ">    - Various ISO month patterns (4 5 4, 4 4 5, 13 4-week months) - there isn't a specific convention here as far as I know, but several are used in practice.\n",
    ">- It would be great to be able to convert a set of data from one set of period-based bins to another. This will be particularly handy when converting /distributing summary level calendar month data into ISO weeks, for example\n",
    ">- It may be appropriate to have a separate abstraction(s)/ function for periodicity, which would allow for more reasonable testing of the binning parameters.\n",
    ">- This feels like something that's in the itertools/more_itertools family, but with special rules.\n",
    ">\n",
    ">There are probably more requirements than just these above, I think it would make sense to start with some example data. We can design that offline to make sure it includes the sorts of test cases we want to hit on.\n",
    "\n",
    "## Resources\n",
    "\n",
    "- [Python 3.10 itertools documentation](https://docs.python.org/3.10/library/itertools.html)\n",
    "- [ISO 8601 Format](https://en.wikipedia.org/wiki/ISO_8601)\n",
    "- [Python 3.10 datetime documentation](https://docs.python.org/3.10/library/datetime.html)"
   ]
  },
  {
   "cell_type": "code",
   "execution_count": 2,
   "id": "de3d8906",
   "metadata": {},
   "outputs": [],
   "source": [
    "from itertools import pairwise, cycle\n",
    "import datetime\n",
    "\n",
    "import frappe\n",
    "from frappe.model.document import Document\n",
    "from fab.forecast_and_budget.state import XStateDocument\n",
    "from dateutil.relativedelta import relativedelta"
   ]
  },
  {
   "cell_type": "code",
   "execution_count": 3,
   "id": "dfcbca62",
   "metadata": {},
   "outputs": [],
   "source": [
    "class ForecastAndBudgetPeriod(XStateDocument):\n",
    "    def __init__(self, start_date, end_date, periodicity=None):\n",
    "        \"\"\"\n",
    "        Needed to get class to work in Jupyter - TODO: configure as\n",
    "            XStateDocument\n",
    "            \n",
    "        \"\"\"\n",
    "        self.start_date = start_date\n",
    "        self.end_date = end_date\n",
    "        self.periodicity = periodicity\n",
    "\n",
    "    def get_iso_start_dates(self, start_date, end_date, step):\n",
    "        \"\"\"\n",
    "        Returns a list of datetime.date objects representing the starting date of\n",
    "            all ISO periods falling within the time span defined by `start_date` to\n",
    "            `end_date`. If `start_date` is not a Monday (the starting weekday for\n",
    "            an ISO week), then the first bin will begin with a partial week\n",
    "            (`start_date` to Sunday). All following bins will consist of full\n",
    "            periods.\n",
    "        \n",
    "        :param start_date: datetime.date object; the date to start binning from\n",
    "        :param end_date: datetime.date object; the date to end binning\n",
    "        :param step: tuple of str, int or sequence of ints; the string indicates\n",
    "            the portion of the date that is changing via step (this function assumes\n",
    "            \"weeks\"), and the integer or sequence of integers is the step for period\n",
    "            dates generated within the time span. If `step` is a sequence, it will\n",
    "            cycle continuously over the values to get the current step to collect\n",
    "            the start dates of the periods.\n",
    "            Example: ISO Month (4 + 5 + 4) would use (4, 5, 4) as the `step`, so\n",
    "            the returned sequence of dates represent months that are 4 ISO weeks,\n",
    "            then 5 ISO weeks, then 4 ISO weeks, with that pattern continuing through\n",
    "            to the `end_date`\n",
    "        :return: list of datetime.date objects\n",
    "        \"\"\"\n",
    "        period, delta = step\n",
    "        r = []\n",
    "        \n",
    "        if type(delta) is int:\n",
    "            delta = [delta]\n",
    "        seq = cycle(delta)\n",
    "        while start_date < end_date:\n",
    "            r.append(start_date)\n",
    "            if start_date.isoweekday() != 1:  # Reset to prior Monday before date math\n",
    "                start_date = datetime.date.fromisocalendar(start_date.isocalendar().year, start_date.isocalendar().week, 1)\n",
    "            start_date += relativedelta(weeks=next(seq))\n",
    "        \n",
    "        return r\n",
    "    \n",
    "    def get_iso_annual_start_dates(self, start_date, end_date, step):\n",
    "        \"\"\"\n",
    "        Returns a list of datetime.date objects representing the starting date of\n",
    "            all ISO years falling within the time span defined by `start_date` to\n",
    "            `end_date`. If `start_date` is not the first day of that ISO year, the\n",
    "            returned sequence will begin with a \"stub\" period (an incomplete year).\n",
    "            The second date in the returned sequence will be the first day of the\n",
    "            first full ISO year after `start_date`.\n",
    "        \n",
    "        :param start_date: datetime.date object; the date to start binning from\n",
    "        :param end_date: datetime.date object; the date to end binning\n",
    "        :param step: tuple of str, int; the string indicates the portion of the date\n",
    "            that is changing via step, and the integer is the step\n",
    "        :return: list of datetime.date objects\n",
    "        \"\"\"\n",
    "        period, delta = step\n",
    "        r = []        \n",
    "        iso_yr_start_date = datetime.date.fromisocalendar(start_date.year, 1, 1)\n",
    "        \n",
    "        # Start_date falls before the first day of that ISO year\n",
    "        if start_date < iso_yr_start_date:\n",
    "            r.append(start_date)\n",
    "            start_date = iso_yr_start_date\n",
    "        # Start_date falls after the first day of that ISO year\n",
    "        elif start_date > iso_yr_start_date:\n",
    "            r.append(start_date)\n",
    "            start_date = datetime.date.fromisocalendar(start_date.year + delta, 1, 1)\n",
    "        \n",
    "        while start_date < end_date:\n",
    "            r.append(start_date)\n",
    "            start_date = datetime.date.fromisocalendar(start_date.year + delta, 1, 1)\n",
    "        \n",
    "        return r\n",
    "    \n",
    "    def get_cal_start_dates(self, start_date, end_date, step):\n",
    "        \"\"\"\n",
    "        Returns a list of datetime.date objects representing the starting date of\n",
    "            all calendar-based periods falling within the time span defined by\n",
    "            `start_date` to `end_date`. The step tuple is determined by periodicity\n",
    "            \n",
    "            \n",
    "            If `start_date` is not a Monday (the starting weekday for\n",
    "            an ISO week), then the returned sequence will begin with a \"stub\" period\n",
    "            (an incomplete week). The second date in the returned sequence will be\n",
    "            the first Monday after `start_date`, and all following dates are Mondays.\n",
    "        \n",
    "        :param start_date: datetime.date object; the date to start binning from\n",
    "        :param end_date: datetime.date object; the date to end binning\n",
    "        :param step: tuple of str, int; the string indicates the portion of the date\n",
    "            that is changing via step, and the integer is the step\n",
    "        :return: list of datetime.date objects        \n",
    "        \"\"\"\n",
    "        period, delta = step\n",
    "        r = []\n",
    "        \n",
    "        if period == \"weeks\":\n",
    "            while start_date < end_date:\n",
    "                r.append(start_date)\n",
    "                start_date += relativedelta(weeks=delta)\n",
    "        elif period == \"months\":\n",
    "            while start_date < end_date:\n",
    "                r.append(start_date)\n",
    "                if start_date.day != 1:\n",
    "                    start_date = start_date.replace(day=1)  # Reset to first of month before date math\n",
    "                start_date += relativedelta(months=delta)\n",
    "        elif period == \"years\":\n",
    "            while start_date < end_date:\n",
    "                r.append(start_date)\n",
    "                start_date += relativedelta(years=delta)\n",
    "        elif period == \"years-cy\":\n",
    "            while start_date < end_date:\n",
    "                r.append(start_date)\n",
    "                if start_date.day != 1 or start_date.month != 1:\n",
    "                    start_date = start_date.replace(month=1, day=1)  # Reset to first of year before date math\n",
    "                start_date += relativedelta(years=delta)\n",
    "        \n",
    "        return r\n",
    "    \n",
    "    def get_period_end_dates(self, start_dates):\n",
    "        \"\"\"\n",
    "        Accepts a sequence of period start dates and adds the period\n",
    "            end date for each item, which is the day prior to the next\n",
    "            start date in the sequence. Assumes the final date is the\n",
    "            (exclusive) end date for the entire sequence.\n",
    "\n",
    "        :param start_dates: sequence of datetime.date objects\n",
    "        :return: list of tuples of datetime.date objects; each tuple \n",
    "            represents the start and end dates of end-to-end periods\n",
    "        \"\"\"\n",
    "        # Generate (from, to) period pairs off start dates\n",
    "        return [(p[0], p[1] + relativedelta(days=-1)) for p in pairwise(start_dates)]\n",
    "    \n",
    "    def get_dates(self, start_date=None, end_date=None, periodicity=None, inclusive=False):\n",
    "        \"\"\"\n",
    "        Gets the starting dates for all periods falling within the time span\n",
    "            from `start_date` to `end_date`, then returns a list of tuples\n",
    "            with the start and end dates for each period.\n",
    "        \n",
    "        :param start_date: datetime.date object; the date to start binning from\n",
    "        :param end_date: datetime.date object; the date to end binning\n",
    "        :param periodicity: str or None; how to determine the periods within the\n",
    "            time span from `start_date` to `end_date`. If None, assumes \"Weekly\".\n",
    "            Options (for all ISO periods, if `start_date` is not a Monday, the\n",
    "            first bin will include a partial week (`start_date` to Sunday), with\n",
    "            following bins generated with full ISO weeks):\n",
    "            - \"Weekly\": weekly bins where the starting weekday is determined by\n",
    "              `start_date`\n",
    "            - \"ISO Week\": weekly bins starting on a Monday\n",
    "            - \"Biweekly\": bins of 2 week periods, starting on `start_date`'s weekday\n",
    "            - \"ISO Biweekly\": bins of 2 ISO week periods\n",
    "            - \"Calendar Month\": monthly bins by calendar. If `start_date` is not the\n",
    "              first of the month, the first bin will be a partial month\n",
    "            - \"ISO Month (4 Weeks)\": monthly bins of 4 ISO week periods\n",
    "            - \"ISO Month (4 + 5 + 4)\": monthly bins of ISO week periods following a\n",
    "              pattern where the first month is 4 ISO weeks long, the next is 5 ISO\n",
    "              weeks long, the next is 4 ISO weeks long, repeating until `end_date`\n",
    "            - \"ISO Month (4 + 4 + 5)\": monthly bins of ISO week periods following a\n",
    "              pattern where the first month is 4 ISO weeks long, the next is 4 ISO\n",
    "              weeks long, the next is 5 ISO weeks long, repeating until `end_date`\n",
    "            - \"Calendar Quarter\": bins of 3 calendar month periods. If `start_date`\n",
    "              is not the first of the month, the first month of the first bin will\n",
    "              be a partial month\n",
    "            - \"ISO Quarter (13 Weeks)\": quarterly bins of 13 ISO week periods\n",
    "            - \"ISO Semiannual (26 Weeks)\": semiannual bins of 26 ISO week periods\n",
    "            - \"Calendar Year\": calendar year bins (Jan-Dec). If `start_date`\n",
    "              is not Jan 1, the first bin will be a partial year\n",
    "            - \"Annually\": yearly bins starting from `start_date`\n",
    "            - \"ISO Annual\": bins of full ISO years. If `start_date` is not the first\n",
    "              day of the ISO year, the first bin will be a partial year\n",
    "            - \"Entire Period\": one bin from `start_date` to either `end_date` (if\n",
    "              inclusive=True) or the day prior to `end_date` (if inclusive=False)\n",
    "        :param inclusive: bool; if the time span being binned includes the end_date\n",
    "            (inclsive=True) or ends the day before (inclusive=False).\n",
    "        :return: list of tuples in form `(datetime.date object, datetime.date object)`\n",
    "        \"\"\"\n",
    "        start_date = self.start_date if not start_date else start_date\n",
    "        end_date = self.end_date if not end_date else end_date\n",
    "        effective_end_date = end_date if not inclusive else end_date + relativedelta(days=1)\n",
    "        periodicity = self.periodicity if not periodicity else periodicity\n",
    "        is_iso = 'iso' in periodicity.lower() if periodicity is not None else False\n",
    "        \n",
    "        steps = {\n",
    "            \"ISO Week\": (\"weeks\", 1),\n",
    "            \"ISO Biweekly\": (\"weeks\", 2),\n",
    "            \"ISO Month (4 Weeks)\": (\"weeks\", 4),\n",
    "            \"ISO Month (4 + 5 + 4)\": (\"weeks\", (4, 5, 4)),\n",
    "            \"ISO Month (4 + 4 + 5)\": (\"weeks\", (4, 4, 5)),\n",
    "            \"ISO Quarter (13 Weeks)\": (\"weeks\", 13), \n",
    "            \"ISO Semiannual (26 Weeks)\": (\"weeks\", 26),\n",
    "            \"ISO Annual\": (\"years\", 1),  # edge case (years can be 52 or 53 weeks)\n",
    "            \"Weekly\": (\"weeks\", 1),\n",
    "            \"Biweekly\": (\"weeks\", 2),\n",
    "            \"Calendar Month\": (\"months\", 1),\n",
    "            \"Calendar Quarter\": (\"months\", 3),\n",
    "            \"Calendar Year\": (\"years-cy\", 1),  # assumes Jan-Dec year (accommodates partial years on front or back end)\n",
    "            \"Annually\": (\"years\", 1),  # assumes 1 year from date given (accommodates non-calendar FYs)            \n",
    "        }\n",
    "        \n",
    "        if periodicity == \"Entire Period\":\n",
    "            return [(start_date, effective_end_date)]\n",
    "        \n",
    "        step = steps.get(periodicity, steps[\"Weekly\"])\n",
    "        print(f'{start_date=}\\n{end_date=}, {effective_end_date=}\\n{step=}')\n",
    "        if is_iso:\n",
    "            if periodicity == \"ISO Annual\":\n",
    "                r = self.get_iso_annual_start_dates(start_date, effective_end_date, step)\n",
    "            else:\n",
    "                r = self.get_iso_start_dates(start_date, effective_end_date, step)\n",
    "        else:\n",
    "            r = self.get_cal_start_dates(start_date, effective_end_date, step)\n",
    "\n",
    "        r.append(effective_end_date)\n",
    "        r = self.get_period_end_dates(r)\n",
    "        return r\n",
    "    \n",
    "    def period_labels(self, periodicity):\n",
    "        month_names = [\"Jan\",\"Feb\",\"Mar\",\"Apr\",\"May\",\"Jun\",\"Jul\",\"Aug\",\"Sep\",\"Oct\",\"Nov\",\"Dec\"]\n",
    "        if periodicity in ('ISO Week', 'Weekly', None):\n",
    "            return [p.strftime(\"%m/%d/%Y\") for p in self.get_dates(periodicity=periodicity)]\n",
    "        if periodicity == \"ISO Month (4 + 5 + 4)\":\n",
    "            start_month = self.start_date.month + 1 % 12\n",
    "            month_sizes = [\"4\",\"5\",\"4\",\"4\",\"5\",\"4\",\"4\",\"5\",\"4\",\"4\",\"5\",\"4\"]\n",
    "            month_names = month_names[start_month:] + month_names[:start_month]\n",
    "            return month_names\n",
    "        elif periodicity == 'Calendar Month':\n",
    "            return month_names\n",
    "        elif periodicity == \"ISO Quarter (13 Weeks)\":\n",
    "            # get quarter \n",
    "            return ['Q1', 'Q2', 'Q3', 'Q4']  # TODO: what if Q's are back end of their year and don't start at Q1? Use \"Q-mm/dd/yy\"?\n",
    "        elif periodicity == 'Entire Period':\n",
    "            return [self.start_date.strftime(\"%m/%d/%Y\")]\n"
   ]
  },
  {
   "cell_type": "markdown",
   "id": "12cc5c2e",
   "metadata": {},
   "source": [
    "### ISO Tests\n",
    "\n",
    "**ISO Week**\n",
    "\n",
    "- Standard: 1/2/23-12/31/23 (inclusive=True)\n",
    "    - w01: 1/2/23 to 1/8/23\n",
    "    - w02: 1/9/15 to 1/15/23\n",
    "    - w03: 1/16/23 to 1/22/23\n",
    "    - w04: 1/23/23 to 1/29/23\n",
    "    - w05: 1/30/23 to 2/5/23\n",
    "    - w06: 2/6/23 to 2/12/23\n",
    "    - w07: 2/13/23 to 2/19/23\n",
    "    - w08: 2/20/23 to 2/26/23\n",
    "    - w09: 2/27/23 to 3/5/23\n",
    "    - w10: 3/6/23 to 3/12/23\n",
    "    - w11: 3/13/23 to 3/19/23\n",
    "    - w12: 3/20/23 to 3/26/23\n",
    "    - w13: 3/27/23 to 4/2/23\n",
    "    - w14: 4/3/23 to 4/9/23\n",
    "    - w15: 4/10/23 to 4/16/23\n",
    "    - w16: 4/17/23 to 4/23/23\n",
    "    - w17: 4/24/23 to 4/30/23\n",
    "    - w18: 5/1/23 to 5/7/23\n",
    "    - w19: 5/8/23 to 5/14/23\n",
    "    - w20: 5/15/23 to 5/21/23\n",
    "    - w21: 5/22/23 to 5/28/23\n",
    "    - w22: 5/29/23 to 6/4/23\n",
    "    - w23: 6/5/23 to 6/11/23\n",
    "    - w24: 6/12/23 to 6/18/23\n",
    "    - w25: 6/19/23 to 6/25/23\n",
    "    - w26: 6/26/23 to 7/2/23\n",
    "    - w27: 7/3/23 to 7/9/23\n",
    "    - w28: 7/10/23 to 7/16/23\n",
    "    - w29: 7/17/23 to 7/23/23\n",
    "    - w30: 7/24/23 to 7/30/23\n",
    "    - w31: 7/31/23 to 8/6/23\n",
    "    - w32: 8/7/23 to 8/13/23\n",
    "    - w33: 8/14/23 to 8/20/23\n",
    "    - w34: 8/21/23 to 8/27/23\n",
    "    - w35: 8/28/23 to 9/3/23\n",
    "    - w36: 9/4/23 to 9/10/23\n",
    "    - w37: 9/11/12 to 9/17/23\n",
    "    - w38: 9/18/23 to 9/24/23\n",
    "    - w39: 9/25/23 to 10/1/23\n",
    "    - w40: 10/2/23 to 10/8/23\n",
    "    - w41: 10/9/23 to 10/15/23\n",
    "    - w42: 10/16/23 to 10/22/23\n",
    "    - w43: 10/23/23 to 10/29/23\n",
    "    - w44: 10/30/23 to 11/5/23\n",
    "    - w45: 11/6/23 to 11/12/23\n",
    "    - w46: 11/13/23 to 11/19/23\n",
    "    - w47: 11/20/23 to 11/26/23\n",
    "    - w48: 11/27/23 to 12/3/23\n",
    "    - w49: 12/4/23 to 12/10/23\n",
    "    - w50: 12/11/23 to 12/17/23\n",
    "    - w51: 12/18/23 to 12/24/23\n",
    "    - w52: 12/25/23 to 12/31/23\n",
    "- Stub period: 1/1/23-1/12/23 (inclusive=False)\n",
    "    - w01: 1/1/23 to 1/1/23\n",
    "    - w02: 1/2/23 to 1/8/23\n",
    "    - w02: 1/9/23 to 1/11/23"
   ]
  },
  {
   "cell_type": "code",
   "execution_count": 4,
   "id": "59669630",
   "metadata": {},
   "outputs": [
    {
     "name": "stdout",
     "output_type": "stream",
     "text": [
      "start_date=datetime.date(2023, 1, 2)\n",
      "end_date=datetime.date(2023, 12, 31), effective_end_date=datetime.date(2024, 1, 1)\n",
      "step=('weeks', 1)\n"
     ]
    },
    {
     "data": {
      "text/plain": [
       "[(datetime.date(2023, 1, 2), datetime.date(2023, 1, 8)),\n",
       " (datetime.date(2023, 1, 9), datetime.date(2023, 1, 15)),\n",
       " (datetime.date(2023, 1, 16), datetime.date(2023, 1, 22)),\n",
       " (datetime.date(2023, 1, 23), datetime.date(2023, 1, 29)),\n",
       " (datetime.date(2023, 1, 30), datetime.date(2023, 2, 5)),\n",
       " (datetime.date(2023, 2, 6), datetime.date(2023, 2, 12)),\n",
       " (datetime.date(2023, 2, 13), datetime.date(2023, 2, 19)),\n",
       " (datetime.date(2023, 2, 20), datetime.date(2023, 2, 26)),\n",
       " (datetime.date(2023, 2, 27), datetime.date(2023, 3, 5)),\n",
       " (datetime.date(2023, 3, 6), datetime.date(2023, 3, 12)),\n",
       " (datetime.date(2023, 3, 13), datetime.date(2023, 3, 19)),\n",
       " (datetime.date(2023, 3, 20), datetime.date(2023, 3, 26)),\n",
       " (datetime.date(2023, 3, 27), datetime.date(2023, 4, 2)),\n",
       " (datetime.date(2023, 4, 3), datetime.date(2023, 4, 9)),\n",
       " (datetime.date(2023, 4, 10), datetime.date(2023, 4, 16)),\n",
       " (datetime.date(2023, 4, 17), datetime.date(2023, 4, 23)),\n",
       " (datetime.date(2023, 4, 24), datetime.date(2023, 4, 30)),\n",
       " (datetime.date(2023, 5, 1), datetime.date(2023, 5, 7)),\n",
       " (datetime.date(2023, 5, 8), datetime.date(2023, 5, 14)),\n",
       " (datetime.date(2023, 5, 15), datetime.date(2023, 5, 21)),\n",
       " (datetime.date(2023, 5, 22), datetime.date(2023, 5, 28)),\n",
       " (datetime.date(2023, 5, 29), datetime.date(2023, 6, 4)),\n",
       " (datetime.date(2023, 6, 5), datetime.date(2023, 6, 11)),\n",
       " (datetime.date(2023, 6, 12), datetime.date(2023, 6, 18)),\n",
       " (datetime.date(2023, 6, 19), datetime.date(2023, 6, 25)),\n",
       " (datetime.date(2023, 6, 26), datetime.date(2023, 7, 2)),\n",
       " (datetime.date(2023, 7, 3), datetime.date(2023, 7, 9)),\n",
       " (datetime.date(2023, 7, 10), datetime.date(2023, 7, 16)),\n",
       " (datetime.date(2023, 7, 17), datetime.date(2023, 7, 23)),\n",
       " (datetime.date(2023, 7, 24), datetime.date(2023, 7, 30)),\n",
       " (datetime.date(2023, 7, 31), datetime.date(2023, 8, 6)),\n",
       " (datetime.date(2023, 8, 7), datetime.date(2023, 8, 13)),\n",
       " (datetime.date(2023, 8, 14), datetime.date(2023, 8, 20)),\n",
       " (datetime.date(2023, 8, 21), datetime.date(2023, 8, 27)),\n",
       " (datetime.date(2023, 8, 28), datetime.date(2023, 9, 3)),\n",
       " (datetime.date(2023, 9, 4), datetime.date(2023, 9, 10)),\n",
       " (datetime.date(2023, 9, 11), datetime.date(2023, 9, 17)),\n",
       " (datetime.date(2023, 9, 18), datetime.date(2023, 9, 24)),\n",
       " (datetime.date(2023, 9, 25), datetime.date(2023, 10, 1)),\n",
       " (datetime.date(2023, 10, 2), datetime.date(2023, 10, 8)),\n",
       " (datetime.date(2023, 10, 9), datetime.date(2023, 10, 15)),\n",
       " (datetime.date(2023, 10, 16), datetime.date(2023, 10, 22)),\n",
       " (datetime.date(2023, 10, 23), datetime.date(2023, 10, 29)),\n",
       " (datetime.date(2023, 10, 30), datetime.date(2023, 11, 5)),\n",
       " (datetime.date(2023, 11, 6), datetime.date(2023, 11, 12)),\n",
       " (datetime.date(2023, 11, 13), datetime.date(2023, 11, 19)),\n",
       " (datetime.date(2023, 11, 20), datetime.date(2023, 11, 26)),\n",
       " (datetime.date(2023, 11, 27), datetime.date(2023, 12, 3)),\n",
       " (datetime.date(2023, 12, 4), datetime.date(2023, 12, 10)),\n",
       " (datetime.date(2023, 12, 11), datetime.date(2023, 12, 17)),\n",
       " (datetime.date(2023, 12, 18), datetime.date(2023, 12, 24)),\n",
       " (datetime.date(2023, 12, 25), datetime.date(2023, 12, 31))]"
      ]
     },
     "execution_count": 4,
     "metadata": {},
     "output_type": "execute_result"
    }
   ],
   "source": [
    "# ISO Week Test 1\n",
    "sd = datetime.date(2023, 1, 2)\n",
    "ed = datetime.date(2023, 12, 31)\n",
    "ForecastAndBudgetPeriod(sd, ed, \"ISO Week\").get_dates(inclusive=True)"
   ]
  },
  {
   "cell_type": "code",
   "execution_count": 5,
   "id": "a2a2f764",
   "metadata": {},
   "outputs": [
    {
     "name": "stdout",
     "output_type": "stream",
     "text": [
      "start_date=datetime.date(2023, 1, 1)\n",
      "end_date=datetime.date(2023, 1, 12), effective_end_date=datetime.date(2023, 1, 12)\n",
      "step=('weeks', 1)\n"
     ]
    },
    {
     "data": {
      "text/plain": [
       "[(datetime.date(2023, 1, 1), datetime.date(2023, 1, 1)),\n",
       " (datetime.date(2023, 1, 2), datetime.date(2023, 1, 8)),\n",
       " (datetime.date(2023, 1, 9), datetime.date(2023, 1, 11))]"
      ]
     },
     "execution_count": 5,
     "metadata": {},
     "output_type": "execute_result"
    }
   ],
   "source": [
    "# ISO Week Test 2\n",
    "sd = datetime.date(2023, 1, 1)\n",
    "ed = datetime.date(2023, 1, 12)\n",
    "ForecastAndBudgetPeriod(sd, ed, \"ISO Week\").get_dates(inclusive=False)"
   ]
  },
  {
   "cell_type": "markdown",
   "id": "57006c62",
   "metadata": {},
   "source": [
    "**ISO Month (4 + 5 + 4)**:\n",
    "\n",
    "- 1/2/23-12/31/23 (inclusive=True)\n",
    "    - m01: 1/2/23 to 1/29/23\n",
    "    - m02: 1/30/23 to 3/5/23\n",
    "    - m03: 3/6/23 to 4/2/23\n",
    "    - m04: 4/3/23 to 4/30/23\n",
    "    - m05: 5/1/23 to 6/4/23\n",
    "    - m06: 6/5/23 to 7/2/23\n",
    "    - m07: 7/3/23 to 7/30/23\n",
    "    - m08: 7/31/23 to 9/3/23\n",
    "    - m09: 9/4/23 to 10/1/23\n",
    "    - m10: 10/2/23 to 10/29/23\n",
    "    - m11: 10/30/23 12/3/23\n",
    "    - m12: 12/4/23 to 12/31/23"
   ]
  },
  {
   "cell_type": "code",
   "execution_count": 6,
   "id": "f0adacac",
   "metadata": {
    "scrolled": true
   },
   "outputs": [
    {
     "name": "stdout",
     "output_type": "stream",
     "text": [
      "start_date=datetime.date(2023, 1, 2)\n",
      "end_date=datetime.date(2023, 12, 31), effective_end_date=datetime.date(2024, 1, 1)\n",
      "step=('weeks', (4, 5, 4))\n"
     ]
    },
    {
     "data": {
      "text/plain": [
       "[(datetime.date(2023, 1, 2), datetime.date(2023, 1, 29)),\n",
       " (datetime.date(2023, 1, 30), datetime.date(2023, 3, 5)),\n",
       " (datetime.date(2023, 3, 6), datetime.date(2023, 4, 2)),\n",
       " (datetime.date(2023, 4, 3), datetime.date(2023, 4, 30)),\n",
       " (datetime.date(2023, 5, 1), datetime.date(2023, 6, 4)),\n",
       " (datetime.date(2023, 6, 5), datetime.date(2023, 7, 2)),\n",
       " (datetime.date(2023, 7, 3), datetime.date(2023, 7, 30)),\n",
       " (datetime.date(2023, 7, 31), datetime.date(2023, 9, 3)),\n",
       " (datetime.date(2023, 9, 4), datetime.date(2023, 10, 1)),\n",
       " (datetime.date(2023, 10, 2), datetime.date(2023, 10, 29)),\n",
       " (datetime.date(2023, 10, 30), datetime.date(2023, 12, 3)),\n",
       " (datetime.date(2023, 12, 4), datetime.date(2023, 12, 31))]"
      ]
     },
     "execution_count": 6,
     "metadata": {},
     "output_type": "execute_result"
    }
   ],
   "source": [
    "# ISO Month (4 + 5 + 4) Test\n",
    "sd = datetime.date(2023, 1, 2)\n",
    "ed = datetime.date(2023, 12, 31)\n",
    "ForecastAndBudgetPeriod(sd, ed, \"ISO Month (4 + 5 + 4)\").get_dates(inclusive=True)"
   ]
  },
  {
   "cell_type": "markdown",
   "id": "19a21204",
   "metadata": {},
   "source": [
    "**ISO Month (4 + 4 + 5)**:\n",
    "\n",
    "- 1/2/23-12/31/23 (inclusive=True)\n",
    "    - m01: 1/2/23 to 1/29/23\n",
    "    - m02: 1/30/23 to 2/26/23\n",
    "    - m03: 2/27/23 to 4/2/23\n",
    "    - m04: 4/3/23 to 4/30/23\n",
    "    - m05: 5/1/23 to 5/28/23\n",
    "    - m06: 5/29/23 to 7/2/23\n",
    "    - m07: 7/3/23 to 7/30/23\n",
    "    - m08: 7/31/23 to 8/27/23\n",
    "    - m09: 8/28/23 to 10/1/23\n",
    "    - m10: 10/2/23 to 10/29/23\n",
    "    - m11: 10/30/23 to 11/26/23\n",
    "    - m12: 11/27/23 to 12/31/23"
   ]
  },
  {
   "cell_type": "code",
   "execution_count": 7,
   "id": "13e9c01b",
   "metadata": {
    "scrolled": true
   },
   "outputs": [
    {
     "name": "stdout",
     "output_type": "stream",
     "text": [
      "start_date=datetime.date(2023, 1, 2)\n",
      "end_date=datetime.date(2023, 12, 31), effective_end_date=datetime.date(2024, 1, 1)\n",
      "step=('weeks', (4, 4, 5))\n"
     ]
    },
    {
     "data": {
      "text/plain": [
       "[(datetime.date(2023, 1, 2), datetime.date(2023, 1, 29)),\n",
       " (datetime.date(2023, 1, 30), datetime.date(2023, 2, 26)),\n",
       " (datetime.date(2023, 2, 27), datetime.date(2023, 4, 2)),\n",
       " (datetime.date(2023, 4, 3), datetime.date(2023, 4, 30)),\n",
       " (datetime.date(2023, 5, 1), datetime.date(2023, 5, 28)),\n",
       " (datetime.date(2023, 5, 29), datetime.date(2023, 7, 2)),\n",
       " (datetime.date(2023, 7, 3), datetime.date(2023, 7, 30)),\n",
       " (datetime.date(2023, 7, 31), datetime.date(2023, 8, 27)),\n",
       " (datetime.date(2023, 8, 28), datetime.date(2023, 10, 1)),\n",
       " (datetime.date(2023, 10, 2), datetime.date(2023, 10, 29)),\n",
       " (datetime.date(2023, 10, 30), datetime.date(2023, 11, 26)),\n",
       " (datetime.date(2023, 11, 27), datetime.date(2023, 12, 31))]"
      ]
     },
     "execution_count": 7,
     "metadata": {},
     "output_type": "execute_result"
    }
   ],
   "source": [
    "# ISO Month (4 + 4 + 5) Test\n",
    "sd = datetime.date(2023, 1, 2)\n",
    "ed = datetime.date(2023, 12, 31)\n",
    "ForecastAndBudgetPeriod(sd, ed, \"ISO Month (4 + 4 + 5)\").get_dates(inclusive=True)"
   ]
  },
  {
   "cell_type": "markdown",
   "id": "cbd01492",
   "metadata": {},
   "source": [
    "**ISO Month (4 Weeks)**:\n",
    "\n",
    "- Standard: 1/2/23-12/31/23 (inclusive=True)\n",
    "    - m01: 1/2/23 to 1/29/23\n",
    "    - m02: 1/30/23 to 2/26/23\n",
    "    - m03: 2/27/23 to 3/26/23\n",
    "    - m04: 3/27/23 to 4/23/23\n",
    "    - m05: 4/24/23 to 5/21/23\n",
    "    - m06: 5/22/23 to 6/18/23\n",
    "    - m07: 6/19/23 to 7/16/23\n",
    "    - m08: 7/17/23 to 8/13/23\n",
    "    - m09: 8/14/23 to 9/10/23\n",
    "    - m10: 9/11/12 to 10/8/23\n",
    "    - m11: 10/9/23 to 11/5/23\n",
    "    - m12: 11/6/23 to 12/3/23\n",
    "    - m13: 12/4/23 to 12/31/23\n",
    "- Stub: 1/5/23-3/26/23 (inclusive=True)\n",
    "    - m01: 1/5/23 to 1/29/23\n",
    "    - m02: 1/30/23 to 2/26/23\n",
    "    - m03: 2/27/23 to 3/26/23"
   ]
  },
  {
   "cell_type": "code",
   "execution_count": 8,
   "id": "7de73ce2",
   "metadata": {
    "scrolled": true
   },
   "outputs": [
    {
     "name": "stdout",
     "output_type": "stream",
     "text": [
      "start_date=datetime.date(2023, 1, 2)\n",
      "end_date=datetime.date(2023, 12, 31), effective_end_date=datetime.date(2024, 1, 1)\n",
      "step=('weeks', 4)\n"
     ]
    },
    {
     "data": {
      "text/plain": [
       "[(datetime.date(2023, 1, 2), datetime.date(2023, 1, 29)),\n",
       " (datetime.date(2023, 1, 30), datetime.date(2023, 2, 26)),\n",
       " (datetime.date(2023, 2, 27), datetime.date(2023, 3, 26)),\n",
       " (datetime.date(2023, 3, 27), datetime.date(2023, 4, 23)),\n",
       " (datetime.date(2023, 4, 24), datetime.date(2023, 5, 21)),\n",
       " (datetime.date(2023, 5, 22), datetime.date(2023, 6, 18)),\n",
       " (datetime.date(2023, 6, 19), datetime.date(2023, 7, 16)),\n",
       " (datetime.date(2023, 7, 17), datetime.date(2023, 8, 13)),\n",
       " (datetime.date(2023, 8, 14), datetime.date(2023, 9, 10)),\n",
       " (datetime.date(2023, 9, 11), datetime.date(2023, 10, 8)),\n",
       " (datetime.date(2023, 10, 9), datetime.date(2023, 11, 5)),\n",
       " (datetime.date(2023, 11, 6), datetime.date(2023, 12, 3)),\n",
       " (datetime.date(2023, 12, 4), datetime.date(2023, 12, 31))]"
      ]
     },
     "execution_count": 8,
     "metadata": {},
     "output_type": "execute_result"
    }
   ],
   "source": [
    "# ISO Month (4 Weeks) Test 1\n",
    "sd = datetime.date(2023, 1, 2)\n",
    "ed = datetime.date(2023, 12, 31)\n",
    "ForecastAndBudgetPeriod(sd, ed, \"ISO Month (4 Weeks)\").get_dates(inclusive=True)"
   ]
  },
  {
   "cell_type": "code",
   "execution_count": 9,
   "id": "91ddf8ce",
   "metadata": {
    "scrolled": true
   },
   "outputs": [
    {
     "name": "stdout",
     "output_type": "stream",
     "text": [
      "start_date=datetime.date(2023, 1, 5)\n",
      "end_date=datetime.date(2023, 3, 26), effective_end_date=datetime.date(2023, 3, 27)\n",
      "step=('weeks', 4)\n"
     ]
    },
    {
     "data": {
      "text/plain": [
       "[(datetime.date(2023, 1, 5), datetime.date(2023, 1, 29)),\n",
       " (datetime.date(2023, 1, 30), datetime.date(2023, 2, 26)),\n",
       " (datetime.date(2023, 2, 27), datetime.date(2023, 3, 26))]"
      ]
     },
     "execution_count": 9,
     "metadata": {},
     "output_type": "execute_result"
    }
   ],
   "source": [
    "# ISO Month (4 Weeks) Test 2\n",
    "sd = datetime.date(2023, 1, 5)\n",
    "ed = datetime.date(2023, 3, 26)\n",
    "ForecastAndBudgetPeriod(sd, ed, \"ISO Month (4 Weeks)\").get_dates(inclusive=True)"
   ]
  },
  {
   "cell_type": "markdown",
   "id": "2214f18a",
   "metadata": {},
   "source": [
    "**ISO Quarter (13 Weeks)**:\n",
    "\n",
    "- Standard: 1/2/23-12/31/23 (inclusive=True)\n",
    "    - Q1: 1/2/23 to 4/2/23\n",
    "    - Q2: 4/3/23 to 7/2/23\n",
    "    - Q3: 7/3/23 to 10/1/23\n",
    "    - Q4: 10/2/23 to 12/31/23\n",
    "- Stub: 1/5/23-12/31/23 (inclusive=True)\n",
    "    - Q1: 1/5/23 to 4/2/23\n",
    "    - Q2: 4/3/23 to 7/2/23\n",
    "    - Q3: 7/3/23 to 10/1/23\n",
    "    - Q4: 10/2/23 to 12/31/23"
   ]
  },
  {
   "cell_type": "code",
   "execution_count": 10,
   "id": "ce1eb609",
   "metadata": {},
   "outputs": [
    {
     "name": "stdout",
     "output_type": "stream",
     "text": [
      "start_date=datetime.date(2023, 1, 2)\n",
      "end_date=datetime.date(2023, 12, 31), effective_end_date=datetime.date(2024, 1, 1)\n",
      "step=('weeks', 13)\n"
     ]
    },
    {
     "data": {
      "text/plain": [
       "[(datetime.date(2023, 1, 2), datetime.date(2023, 4, 2)),\n",
       " (datetime.date(2023, 4, 3), datetime.date(2023, 7, 2)),\n",
       " (datetime.date(2023, 7, 3), datetime.date(2023, 10, 1)),\n",
       " (datetime.date(2023, 10, 2), datetime.date(2023, 12, 31))]"
      ]
     },
     "execution_count": 10,
     "metadata": {},
     "output_type": "execute_result"
    }
   ],
   "source": [
    "# ISO Quarter Test 1\n",
    "sd = datetime.date(2023, 1, 2)\n",
    "ed = datetime.date(2023, 12, 31)\n",
    "ForecastAndBudgetPeriod(sd, ed, \"ISO Quarter (13 Weeks)\").get_dates(inclusive=True)"
   ]
  },
  {
   "cell_type": "code",
   "execution_count": 11,
   "id": "1345b65d",
   "metadata": {},
   "outputs": [
    {
     "name": "stdout",
     "output_type": "stream",
     "text": [
      "start_date=datetime.date(2023, 1, 5)\n",
      "end_date=datetime.date(2023, 12, 31), effective_end_date=datetime.date(2024, 1, 1)\n",
      "step=('weeks', 13)\n"
     ]
    },
    {
     "data": {
      "text/plain": [
       "[(datetime.date(2023, 1, 5), datetime.date(2023, 4, 2)),\n",
       " (datetime.date(2023, 4, 3), datetime.date(2023, 7, 2)),\n",
       " (datetime.date(2023, 7, 3), datetime.date(2023, 10, 1)),\n",
       " (datetime.date(2023, 10, 2), datetime.date(2023, 12, 31))]"
      ]
     },
     "execution_count": 11,
     "metadata": {},
     "output_type": "execute_result"
    }
   ],
   "source": [
    "# ISO Quarter Test 2\n",
    "sd = datetime.date(2023, 1, 5)\n",
    "ed = datetime.date(2023, 12, 31)\n",
    "ForecastAndBudgetPeriod(sd, ed, \"ISO Quarter (13 Weeks)\").get_dates(inclusive=True)"
   ]
  },
  {
   "cell_type": "markdown",
   "id": "64ae981e",
   "metadata": {},
   "source": [
    "**ISO Annual**:\n",
    "- Start date falls on beginning of ISO year: 1/2/23-12/30/24 (inclusive=False) => `[(1/2/23, 12/31/23), (1/1/24, 12/29/24)]`\n",
    "- Start date falls before ISO year: 1/1/23-12/29/24 (inclusive=True) => `[(1/1/23, 1/1/23), (1/2/23, 12/31/23), (1/1/24, 12/29/24)]`\n",
    "- Start date falls after ISO year: 7/3/23-12/29/24 (inclusive=True) => `[(7/3/23, 12/31/23), (1/1/24, 12/29/24)]`\n",
    "- End date falls before ISO year ends: 1/2/23-6/30/24 (inclusive=False) => `[(1/2/23, 12/31/23), (1/1/24, 6/29/24)]`"
   ]
  },
  {
   "cell_type": "code",
   "execution_count": 12,
   "id": "2cb99e29",
   "metadata": {},
   "outputs": [
    {
     "name": "stdout",
     "output_type": "stream",
     "text": [
      "start_date=datetime.date(2023, 1, 2)\n",
      "end_date=datetime.date(2024, 12, 30), effective_end_date=datetime.date(2024, 12, 30)\n",
      "step=('years', 1)\n"
     ]
    },
    {
     "data": {
      "text/plain": [
       "[(datetime.date(2023, 1, 2), datetime.date(2023, 12, 31)),\n",
       " (datetime.date(2024, 1, 1), datetime.date(2024, 12, 29))]"
      ]
     },
     "execution_count": 12,
     "metadata": {},
     "output_type": "execute_result"
    }
   ],
   "source": [
    "# ISO Annual Test 1\n",
    "sd = datetime.date(2023, 1, 2)\n",
    "ed = datetime.date(2024, 12, 30)\n",
    "ForecastAndBudgetPeriod(sd, ed, \"ISO Annual\").get_dates(inclusive=False)"
   ]
  },
  {
   "cell_type": "code",
   "execution_count": 13,
   "id": "57b5446f",
   "metadata": {},
   "outputs": [
    {
     "name": "stdout",
     "output_type": "stream",
     "text": [
      "start_date=datetime.date(2023, 1, 1)\n",
      "end_date=datetime.date(2024, 12, 29), effective_end_date=datetime.date(2024, 12, 30)\n",
      "step=('years', 1)\n"
     ]
    },
    {
     "data": {
      "text/plain": [
       "[(datetime.date(2023, 1, 1), datetime.date(2023, 1, 1)),\n",
       " (datetime.date(2023, 1, 2), datetime.date(2023, 12, 31)),\n",
       " (datetime.date(2024, 1, 1), datetime.date(2024, 12, 29))]"
      ]
     },
     "execution_count": 13,
     "metadata": {},
     "output_type": "execute_result"
    }
   ],
   "source": [
    "# ISO Annual Test 2\n",
    "sd = datetime.date(2023, 1, 1)\n",
    "ed = datetime.date(2024, 12, 29)\n",
    "ForecastAndBudgetPeriod(sd, ed, \"ISO Annual\").get_dates(inclusive=True)"
   ]
  },
  {
   "cell_type": "code",
   "execution_count": 14,
   "id": "e75c61e6",
   "metadata": {},
   "outputs": [
    {
     "name": "stdout",
     "output_type": "stream",
     "text": [
      "start_date=datetime.date(2023, 7, 3)\n",
      "end_date=datetime.date(2024, 12, 29), effective_end_date=datetime.date(2024, 12, 30)\n",
      "step=('years', 1)\n"
     ]
    },
    {
     "data": {
      "text/plain": [
       "[(datetime.date(2023, 7, 3), datetime.date(2023, 12, 31)),\n",
       " (datetime.date(2024, 1, 1), datetime.date(2024, 12, 29))]"
      ]
     },
     "execution_count": 14,
     "metadata": {},
     "output_type": "execute_result"
    }
   ],
   "source": [
    "# ISO Annual Test 3\n",
    "sd = datetime.date(2023, 7, 3)\n",
    "ed = datetime.date(2024, 12, 29)\n",
    "ForecastAndBudgetPeriod(sd, ed, \"ISO Annual\").get_dates(inclusive=True)"
   ]
  },
  {
   "cell_type": "code",
   "execution_count": 15,
   "id": "534504ca",
   "metadata": {},
   "outputs": [
    {
     "name": "stdout",
     "output_type": "stream",
     "text": [
      "start_date=datetime.date(2023, 1, 2)\n",
      "end_date=datetime.date(2024, 6, 30), effective_end_date=datetime.date(2024, 6, 30)\n",
      "step=('years', 1)\n"
     ]
    },
    {
     "data": {
      "text/plain": [
       "[(datetime.date(2023, 1, 2), datetime.date(2023, 12, 31)),\n",
       " (datetime.date(2024, 1, 1), datetime.date(2024, 6, 29))]"
      ]
     },
     "execution_count": 15,
     "metadata": {},
     "output_type": "execute_result"
    }
   ],
   "source": [
    "# ISO Annual Test 4\n",
    "sd = datetime.date(2023, 1, 2)\n",
    "ed = datetime.date(2024, 6, 30)\n",
    "ForecastAndBudgetPeriod(sd, ed, \"ISO Annual\").get_dates(inclusive=False)"
   ]
  },
  {
   "cell_type": "markdown",
   "id": "7bb514f6",
   "metadata": {},
   "source": [
    "### Calendar Date Tests\n",
    "\n",
    "**Weekly and Biweekly**\n",
    "- Standard: 1/2/23-2/13/23 (inclusive=False) => see first 6 ISO weeks\n",
    "- Non-Monday start: 1/5/23-1/26/23 (inclusive=False) => `[(1/5/23, 1/11/23), (1/12/23, 1/18/23), (1/19/23, 1/25/23)]`\n",
    "- Biweekly: 1/11/12-2/15/23 (inclusive=True) => `[(1/11/23, 1/24/23), (1/25/23, 2/7/23), (2/8/23, 2/15/23)]`"
   ]
  },
  {
   "cell_type": "code",
   "execution_count": 16,
   "id": "f63843c5",
   "metadata": {},
   "outputs": [
    {
     "name": "stdout",
     "output_type": "stream",
     "text": [
      "start_date=datetime.date(2023, 1, 2)\n",
      "end_date=datetime.date(2023, 2, 13), effective_end_date=datetime.date(2023, 2, 13)\n",
      "step=('weeks', 1)\n"
     ]
    },
    {
     "data": {
      "text/plain": [
       "[(datetime.date(2023, 1, 2), datetime.date(2023, 1, 8)),\n",
       " (datetime.date(2023, 1, 9), datetime.date(2023, 1, 15)),\n",
       " (datetime.date(2023, 1, 16), datetime.date(2023, 1, 22)),\n",
       " (datetime.date(2023, 1, 23), datetime.date(2023, 1, 29)),\n",
       " (datetime.date(2023, 1, 30), datetime.date(2023, 2, 5)),\n",
       " (datetime.date(2023, 2, 6), datetime.date(2023, 2, 12))]"
      ]
     },
     "execution_count": 16,
     "metadata": {},
     "output_type": "execute_result"
    }
   ],
   "source": [
    "# Weekly Test 1\n",
    "sd = datetime.date(2023, 1, 2)\n",
    "ed = datetime.date(2023, 2, 13)\n",
    "ForecastAndBudgetPeriod(sd, ed, \"Weekly\").get_dates(inclusive=False)"
   ]
  },
  {
   "cell_type": "code",
   "execution_count": 17,
   "id": "c9d3293b",
   "metadata": {},
   "outputs": [
    {
     "name": "stdout",
     "output_type": "stream",
     "text": [
      "start_date=datetime.date(2023, 1, 5)\n",
      "end_date=datetime.date(2023, 1, 26), effective_end_date=datetime.date(2023, 1, 26)\n",
      "step=('weeks', 1)\n"
     ]
    },
    {
     "data": {
      "text/plain": [
       "[(datetime.date(2023, 1, 5), datetime.date(2023, 1, 11)),\n",
       " (datetime.date(2023, 1, 12), datetime.date(2023, 1, 18)),\n",
       " (datetime.date(2023, 1, 19), datetime.date(2023, 1, 25))]"
      ]
     },
     "execution_count": 17,
     "metadata": {},
     "output_type": "execute_result"
    }
   ],
   "source": [
    "# Weekly Test 2\n",
    "sd = datetime.date(2023, 1, 5)\n",
    "ed = datetime.date(2023, 1, 26)\n",
    "ForecastAndBudgetPeriod(sd, ed, \"Weekly\").get_dates(inclusive=False)"
   ]
  },
  {
   "cell_type": "code",
   "execution_count": 18,
   "id": "fa8447be",
   "metadata": {},
   "outputs": [
    {
     "name": "stdout",
     "output_type": "stream",
     "text": [
      "start_date=datetime.date(2023, 1, 11)\n",
      "end_date=datetime.date(2023, 2, 15), effective_end_date=datetime.date(2023, 2, 16)\n",
      "step=('weeks', 2)\n"
     ]
    },
    {
     "data": {
      "text/plain": [
       "[(datetime.date(2023, 1, 11), datetime.date(2023, 1, 24)),\n",
       " (datetime.date(2023, 1, 25), datetime.date(2023, 2, 7)),\n",
       " (datetime.date(2023, 2, 8), datetime.date(2023, 2, 15))]"
      ]
     },
     "execution_count": 18,
     "metadata": {},
     "output_type": "execute_result"
    }
   ],
   "source": [
    "# Biweekly Test\n",
    "sd = datetime.date(2023, 1, 11)\n",
    "ed = datetime.date(2023, 2, 15)\n",
    "ForecastAndBudgetPeriod(sd, ed, \"Biweekly\").get_dates(inclusive=True)"
   ]
  },
  {
   "cell_type": "markdown",
   "id": "eef243ac",
   "metadata": {},
   "source": [
    "**Calendar Month and Calendar Quarter**\n",
    "\n",
    "- Calendar Month: 1/15/23-3/15/23 (inclusive=True) => `[(1/15/23, 1/31/23), (2/1/23, 2/28/23), (3/1/23, 3/15/23)]`\n",
    "- Calendar Quarter: 1/1/23-9/30/23 (inclusive=True) => `[(1/1/23, 3/31/23), (4/1/23, 6/30/23), (7/1/23, 9/30/23)]`\n",
    "- Calendar Quarter (with stub): 1/10/23-8/10/23 (inclusive=True) => `[(1/10/23, 3/31/23), (4/1/23, 6/30/23), (7/1/23, 8/10/23)]`\n",
    "- Calendar Quarter (Oct FY): 11/1/23-4/30/24 (inclusive=True) => `[(11/1/23, 1/31/24), (2/1/24, 4/30/24)]`"
   ]
  },
  {
   "cell_type": "code",
   "execution_count": 19,
   "id": "c2ee3b6f",
   "metadata": {},
   "outputs": [
    {
     "name": "stdout",
     "output_type": "stream",
     "text": [
      "start_date=datetime.date(2023, 1, 15)\n",
      "end_date=datetime.date(2023, 3, 15), effective_end_date=datetime.date(2023, 3, 16)\n",
      "step=('months', 1)\n"
     ]
    },
    {
     "data": {
      "text/plain": [
       "[(datetime.date(2023, 1, 15), datetime.date(2023, 1, 31)),\n",
       " (datetime.date(2023, 2, 1), datetime.date(2023, 2, 28)),\n",
       " (datetime.date(2023, 3, 1), datetime.date(2023, 3, 15))]"
      ]
     },
     "execution_count": 19,
     "metadata": {},
     "output_type": "execute_result"
    }
   ],
   "source": [
    "# Calendar Month Test\n",
    "sd = datetime.date(2023, 1, 15)\n",
    "ed = datetime.date(2023, 3, 15)\n",
    "ForecastAndBudgetPeriod(sd, ed, \"Calendar Month\").get_dates(inclusive=True)"
   ]
  },
  {
   "cell_type": "code",
   "execution_count": 20,
   "id": "4a904412",
   "metadata": {},
   "outputs": [
    {
     "name": "stdout",
     "output_type": "stream",
     "text": [
      "start_date=datetime.date(2023, 1, 1)\n",
      "end_date=datetime.date(2023, 9, 30), effective_end_date=datetime.date(2023, 10, 1)\n",
      "step=('months', 3)\n"
     ]
    },
    {
     "data": {
      "text/plain": [
       "[(datetime.date(2023, 1, 1), datetime.date(2023, 3, 31)),\n",
       " (datetime.date(2023, 4, 1), datetime.date(2023, 6, 30)),\n",
       " (datetime.date(2023, 7, 1), datetime.date(2023, 9, 30))]"
      ]
     },
     "execution_count": 20,
     "metadata": {},
     "output_type": "execute_result"
    }
   ],
   "source": [
    "# Calendar Quarter Test 1\n",
    "sd = datetime.date(2023, 1, 1)\n",
    "ed = datetime.date(2023, 9, 30)\n",
    "ForecastAndBudgetPeriod(sd, ed, \"Calendar Quarter\").get_dates(inclusive=True)"
   ]
  },
  {
   "cell_type": "code",
   "execution_count": 21,
   "id": "015357a2",
   "metadata": {},
   "outputs": [
    {
     "name": "stdout",
     "output_type": "stream",
     "text": [
      "start_date=datetime.date(2023, 1, 10)\n",
      "end_date=datetime.date(2023, 8, 10), effective_end_date=datetime.date(2023, 8, 11)\n",
      "step=('months', 3)\n"
     ]
    },
    {
     "data": {
      "text/plain": [
       "[(datetime.date(2023, 1, 10), datetime.date(2023, 3, 31)),\n",
       " (datetime.date(2023, 4, 1), datetime.date(2023, 6, 30)),\n",
       " (datetime.date(2023, 7, 1), datetime.date(2023, 8, 10))]"
      ]
     },
     "execution_count": 21,
     "metadata": {},
     "output_type": "execute_result"
    }
   ],
   "source": [
    "# Calendar Quarter Test 2\n",
    "sd = datetime.date(2023, 1, 10)\n",
    "ed = datetime.date(2023, 8, 10)\n",
    "ForecastAndBudgetPeriod(sd, ed, \"Calendar Quarter\").get_dates(inclusive=True)"
   ]
  },
  {
   "cell_type": "code",
   "execution_count": 22,
   "id": "8c7a0845",
   "metadata": {},
   "outputs": [
    {
     "name": "stdout",
     "output_type": "stream",
     "text": [
      "start_date=datetime.date(2023, 11, 1)\n",
      "end_date=datetime.date(2024, 4, 30), effective_end_date=datetime.date(2024, 5, 1)\n",
      "step=('months', 3)\n"
     ]
    },
    {
     "data": {
      "text/plain": [
       "[(datetime.date(2023, 11, 1), datetime.date(2024, 1, 31)),\n",
       " (datetime.date(2024, 2, 1), datetime.date(2024, 4, 30))]"
      ]
     },
     "execution_count": 22,
     "metadata": {},
     "output_type": "execute_result"
    }
   ],
   "source": [
    "# Calendar Quarter Test 3\n",
    "sd = datetime.date(2023, 11, 1)\n",
    "ed = datetime.date(2024, 4, 30)\n",
    "ForecastAndBudgetPeriod(sd, ed, \"Calendar Quarter\").get_dates(inclusive=True)"
   ]
  },
  {
   "cell_type": "markdown",
   "id": "f40b8620",
   "metadata": {},
   "source": [
    "**Calendar Year and Annually**\n",
    "\n",
    "- Calendar Year (assumes Jan-Dec FY, with stub): 6/30/23-7/1/25 (inclusive=False) => `[(6/30/23, 12/31/23), (1/1/24, 12/31/24), (1/1/25, 6/30/25)]`\n",
    "- Annually (non calendar FY ending 10/31): 11/1/21-10/31/23 (inclusive=True) => `[(11/1/21, 10/31/22), (11/1/22, 10/31/23)]`"
   ]
  },
  {
   "cell_type": "code",
   "execution_count": 23,
   "id": "32442ed1",
   "metadata": {},
   "outputs": [
    {
     "name": "stdout",
     "output_type": "stream",
     "text": [
      "start_date=datetime.date(2023, 6, 30)\n",
      "end_date=datetime.date(2025, 7, 1), effective_end_date=datetime.date(2025, 7, 1)\n",
      "step=('years-cy', 1)\n"
     ]
    },
    {
     "data": {
      "text/plain": [
       "[(datetime.date(2023, 6, 30), datetime.date(2023, 12, 31)),\n",
       " (datetime.date(2024, 1, 1), datetime.date(2024, 12, 31)),\n",
       " (datetime.date(2025, 1, 1), datetime.date(2025, 6, 30))]"
      ]
     },
     "execution_count": 23,
     "metadata": {},
     "output_type": "execute_result"
    }
   ],
   "source": [
    "# Calendar Year Test\n",
    "sd = datetime.date(2023, 6, 30)\n",
    "ed = datetime.date(2025, 7, 1)\n",
    "ForecastAndBudgetPeriod(sd, ed, \"Calendar Year\").get_dates(inclusive=False)"
   ]
  },
  {
   "cell_type": "code",
   "execution_count": 24,
   "id": "1c992ad4",
   "metadata": {},
   "outputs": [
    {
     "name": "stdout",
     "output_type": "stream",
     "text": [
      "start_date=datetime.date(2021, 11, 1)\n",
      "end_date=datetime.date(2023, 10, 31), effective_end_date=datetime.date(2023, 11, 1)\n",
      "step=('years', 1)\n"
     ]
    },
    {
     "data": {
      "text/plain": [
       "[(datetime.date(2021, 11, 1), datetime.date(2022, 10, 31)),\n",
       " (datetime.date(2022, 11, 1), datetime.date(2023, 10, 31))]"
      ]
     },
     "execution_count": 24,
     "metadata": {},
     "output_type": "execute_result"
    }
   ],
   "source": [
    "# Annually Test\n",
    "sd = datetime.date(2021, 11, 1)\n",
    "ed = datetime.date(2023, 10, 31)\n",
    "ForecastAndBudgetPeriod(sd, ed, \"Annually\").get_dates(inclusive=True)"
   ]
  },
  {
   "cell_type": "markdown",
   "id": "b001b193",
   "metadata": {},
   "source": [
    "**Edge Cases**\n",
    "\n",
    "- End date is before start date: Calendar Quarter 11/1/23-4/30/23 (inclusive=True) => []\n",
    "- End date would be the first day of a new period but is inclusive: Calendar Year 1/1/23-1/1/25 (inclusive=True) => `[(1/1/23), (12/31/23), (1/1/24, 12/31/24), (1/1/25, 1/1/25)]`\n",
    "- TODO: missing start_date/missing end_date => error\n",
    "- TODO: missing periodicity => weekly"
   ]
  },
  {
   "cell_type": "code",
   "execution_count": 25,
   "id": "4c51f9da",
   "metadata": {},
   "outputs": [
    {
     "name": "stdout",
     "output_type": "stream",
     "text": [
      "start_date=datetime.date(2023, 11, 1)\n",
      "end_date=datetime.date(2023, 4, 30), effective_end_date=datetime.date(2023, 5, 1)\n",
      "step=('months', 3)\n"
     ]
    },
    {
     "data": {
      "text/plain": [
       "[]"
      ]
     },
     "execution_count": 25,
     "metadata": {},
     "output_type": "execute_result"
    }
   ],
   "source": [
    "# Edge Cases Test 1\n",
    "sd = datetime.date(2023, 11, 1)\n",
    "ed = datetime.date(2023, 4, 30)\n",
    "ForecastAndBudgetPeriod(sd, ed, \"Calendar Quarter\").get_dates(inclusive=True)"
   ]
  },
  {
   "cell_type": "code",
   "execution_count": 26,
   "id": "a6af4524",
   "metadata": {},
   "outputs": [
    {
     "name": "stdout",
     "output_type": "stream",
     "text": [
      "start_date=datetime.date(2023, 1, 1)\n",
      "end_date=datetime.date(2025, 1, 1), effective_end_date=datetime.date(2025, 1, 2)\n",
      "step=('years-cy', 1)\n"
     ]
    },
    {
     "data": {
      "text/plain": [
       "[(datetime.date(2023, 1, 1), datetime.date(2023, 12, 31)),\n",
       " (datetime.date(2024, 1, 1), datetime.date(2024, 12, 31)),\n",
       " (datetime.date(2025, 1, 1), datetime.date(2025, 1, 1))]"
      ]
     },
     "execution_count": 26,
     "metadata": {},
     "output_type": "execute_result"
    }
   ],
   "source": [
    "# Edge Case Test 2\n",
    "sd = datetime.date(2023, 1, 1)\n",
    "ed = datetime.date(2025, 1, 1)\n",
    "ForecastAndBudgetPeriod(sd, ed, \"Calendar Year\").get_dates(inclusive=True)"
   ]
  }
 ],
 "metadata": {
  "hide_input": false,
  "kernelspec": {
   "display_name": "Python 3 (ipykernel)",
   "language": "python",
   "name": "python3"
  },
  "language_info": {
   "codemirror_mode": {
    "name": "ipython",
    "version": 3
   },
   "file_extension": ".py",
   "mimetype": "text/x-python",
   "name": "python",
   "nbconvert_exporter": "python",
   "pygments_lexer": "ipython3",
   "version": "3.10.2"
  }
 },
 "nbformat": 4,
 "nbformat_minor": 5
}
