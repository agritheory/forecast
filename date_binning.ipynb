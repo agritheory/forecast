{
 "cells": [
  {
   "cell_type": "markdown",
   "id": "e9c5329b",
   "metadata": {},
   "source": [
    "# Test Environment for Date Binning\n",
    "\n",
    "Addresses [issue #8](https://github.com/agritheory/forecast/issues/8)\n",
    "\n",
    "## Resources\n",
    "\n",
    "- [ISO 8601 Format](https://en.wikipedia.org/wiki/ISO_8601)\n",
    "- [Python 3.10 itertools documentation](https://docs.python.org/3.10/library/itertools.html)\n",
    "- [Python 3.10 datetime documentation](https://docs.python.org/3.10/library/datetime.html)\n",
    "- [Python 3.10 contextvars documentation](https://docs.python.org/3.10/library/contextvars.html) and [contextvars PEP0567](https://peps.python.org/pep-0567/)\n",
    "- [Pytest import issue](https://stackoverflow.com/questions/25827160/importing-correctly-with-pytest#50169991)"
   ]
  },
  {
   "cell_type": "code",
   "execution_count": 1,
   "id": "de3d8906",
   "metadata": {},
   "outputs": [],
   "source": [
    "import datetime\n",
    "from dateutil.relativedelta import relativedelta\n",
    "import contextvars"
   ]
  },
  {
   "cell_type": "code",
   "execution_count": 2,
   "id": "8a0acc6f",
   "metadata": {},
   "outputs": [],
   "source": [
    "from date_binning import Period"
   ]
  },
  {
   "cell_type": "markdown",
   "id": "12cc5c2e",
   "metadata": {},
   "source": [
    "### ISO Tests\n",
    "\n",
    "**ISO Week**\n",
    "\n",
    "- Standard: 1/2/23-12/31/23 (inclusive=True)\n",
    "    - w01: 1/2/23 to 1/8/23\n",
    "    - w02: 1/9/15 to 1/15/23\n",
    "    - w03: 1/16/23 to 1/22/23\n",
    "    - w04: 1/23/23 to 1/29/23\n",
    "    - w05: 1/30/23 to 2/5/23\n",
    "    - w06: 2/6/23 to 2/12/23\n",
    "    - w07: 2/13/23 to 2/19/23\n",
    "    - w08: 2/20/23 to 2/26/23\n",
    "    - w09: 2/27/23 to 3/5/23\n",
    "    - w10: 3/6/23 to 3/12/23\n",
    "    - w11: 3/13/23 to 3/19/23\n",
    "    - w12: 3/20/23 to 3/26/23\n",
    "    - w13: 3/27/23 to 4/2/23\n",
    "    - w14: 4/3/23 to 4/9/23\n",
    "    - w15: 4/10/23 to 4/16/23\n",
    "    - w16: 4/17/23 to 4/23/23\n",
    "    - w17: 4/24/23 to 4/30/23\n",
    "    - w18: 5/1/23 to 5/7/23\n",
    "    - w19: 5/8/23 to 5/14/23\n",
    "    - w20: 5/15/23 to 5/21/23\n",
    "    - w21: 5/22/23 to 5/28/23\n",
    "    - w22: 5/29/23 to 6/4/23\n",
    "    - w23: 6/5/23 to 6/11/23\n",
    "    - w24: 6/12/23 to 6/18/23\n",
    "    - w25: 6/19/23 to 6/25/23\n",
    "    - w26: 6/26/23 to 7/2/23\n",
    "    - w27: 7/3/23 to 7/9/23\n",
    "    - w28: 7/10/23 to 7/16/23\n",
    "    - w29: 7/17/23 to 7/23/23\n",
    "    - w30: 7/24/23 to 7/30/23\n",
    "    - w31: 7/31/23 to 8/6/23\n",
    "    - w32: 8/7/23 to 8/13/23\n",
    "    - w33: 8/14/23 to 8/20/23\n",
    "    - w34: 8/21/23 to 8/27/23\n",
    "    - w35: 8/28/23 to 9/3/23\n",
    "    - w36: 9/4/23 to 9/10/23\n",
    "    - w37: 9/11/12 to 9/17/23\n",
    "    - w38: 9/18/23 to 9/24/23\n",
    "    - w39: 9/25/23 to 10/1/23\n",
    "    - w40: 10/2/23 to 10/8/23\n",
    "    - w41: 10/9/23 to 10/15/23\n",
    "    - w42: 10/16/23 to 10/22/23\n",
    "    - w43: 10/23/23 to 10/29/23\n",
    "    - w44: 10/30/23 to 11/5/23\n",
    "    - w45: 11/6/23 to 11/12/23\n",
    "    - w46: 11/13/23 to 11/19/23\n",
    "    - w47: 11/20/23 to 11/26/23\n",
    "    - w48: 11/27/23 to 12/3/23\n",
    "    - w49: 12/4/23 to 12/10/23\n",
    "    - w50: 12/11/23 to 12/17/23\n",
    "    - w51: 12/18/23 to 12/24/23\n",
    "    - w52: 12/25/23 to 12/31/23\n",
    "- Stub period: 1/1/23-1/12/23 (inclusive=False)\n",
    "    - w01: 1/1/23 to 1/1/23\n",
    "    - w02: 1/2/23 to 1/8/23\n",
    "    - w02: 1/9/23 to 1/11/23"
   ]
  },
  {
   "cell_type": "code",
   "execution_count": 3,
   "id": "59669630",
   "metadata": {
    "scrolled": true
   },
   "outputs": [
    {
     "data": {
      "text/plain": [
       "[(datetime.date(2023, 1, 2), datetime.date(2023, 1, 8)),\n",
       " (datetime.date(2023, 1, 9), datetime.date(2023, 1, 15)),\n",
       " (datetime.date(2023, 1, 16), datetime.date(2023, 1, 22)),\n",
       " (datetime.date(2023, 1, 23), datetime.date(2023, 1, 29)),\n",
       " (datetime.date(2023, 1, 30), datetime.date(2023, 2, 5)),\n",
       " (datetime.date(2023, 2, 6), datetime.date(2023, 2, 12)),\n",
       " (datetime.date(2023, 2, 13), datetime.date(2023, 2, 19)),\n",
       " (datetime.date(2023, 2, 20), datetime.date(2023, 2, 26)),\n",
       " (datetime.date(2023, 2, 27), datetime.date(2023, 3, 5)),\n",
       " (datetime.date(2023, 3, 6), datetime.date(2023, 3, 12)),\n",
       " (datetime.date(2023, 3, 13), datetime.date(2023, 3, 19)),\n",
       " (datetime.date(2023, 3, 20), datetime.date(2023, 3, 26)),\n",
       " (datetime.date(2023, 3, 27), datetime.date(2023, 4, 2)),\n",
       " (datetime.date(2023, 4, 3), datetime.date(2023, 4, 9)),\n",
       " (datetime.date(2023, 4, 10), datetime.date(2023, 4, 16)),\n",
       " (datetime.date(2023, 4, 17), datetime.date(2023, 4, 23)),\n",
       " (datetime.date(2023, 4, 24), datetime.date(2023, 4, 30)),\n",
       " (datetime.date(2023, 5, 1), datetime.date(2023, 5, 7)),\n",
       " (datetime.date(2023, 5, 8), datetime.date(2023, 5, 14)),\n",
       " (datetime.date(2023, 5, 15), datetime.date(2023, 5, 21)),\n",
       " (datetime.date(2023, 5, 22), datetime.date(2023, 5, 28)),\n",
       " (datetime.date(2023, 5, 29), datetime.date(2023, 6, 4)),\n",
       " (datetime.date(2023, 6, 5), datetime.date(2023, 6, 11)),\n",
       " (datetime.date(2023, 6, 12), datetime.date(2023, 6, 18)),\n",
       " (datetime.date(2023, 6, 19), datetime.date(2023, 6, 25)),\n",
       " (datetime.date(2023, 6, 26), datetime.date(2023, 7, 2)),\n",
       " (datetime.date(2023, 7, 3), datetime.date(2023, 7, 9)),\n",
       " (datetime.date(2023, 7, 10), datetime.date(2023, 7, 16)),\n",
       " (datetime.date(2023, 7, 17), datetime.date(2023, 7, 23)),\n",
       " (datetime.date(2023, 7, 24), datetime.date(2023, 7, 30)),\n",
       " (datetime.date(2023, 7, 31), datetime.date(2023, 8, 6)),\n",
       " (datetime.date(2023, 8, 7), datetime.date(2023, 8, 13)),\n",
       " (datetime.date(2023, 8, 14), datetime.date(2023, 8, 20)),\n",
       " (datetime.date(2023, 8, 21), datetime.date(2023, 8, 27)),\n",
       " (datetime.date(2023, 8, 28), datetime.date(2023, 9, 3)),\n",
       " (datetime.date(2023, 9, 4), datetime.date(2023, 9, 10)),\n",
       " (datetime.date(2023, 9, 11), datetime.date(2023, 9, 17)),\n",
       " (datetime.date(2023, 9, 18), datetime.date(2023, 9, 24)),\n",
       " (datetime.date(2023, 9, 25), datetime.date(2023, 10, 1)),\n",
       " (datetime.date(2023, 10, 2), datetime.date(2023, 10, 8)),\n",
       " (datetime.date(2023, 10, 9), datetime.date(2023, 10, 15)),\n",
       " (datetime.date(2023, 10, 16), datetime.date(2023, 10, 22)),\n",
       " (datetime.date(2023, 10, 23), datetime.date(2023, 10, 29)),\n",
       " (datetime.date(2023, 10, 30), datetime.date(2023, 11, 5)),\n",
       " (datetime.date(2023, 11, 6), datetime.date(2023, 11, 12)),\n",
       " (datetime.date(2023, 11, 13), datetime.date(2023, 11, 19)),\n",
       " (datetime.date(2023, 11, 20), datetime.date(2023, 11, 26)),\n",
       " (datetime.date(2023, 11, 27), datetime.date(2023, 12, 3)),\n",
       " (datetime.date(2023, 12, 4), datetime.date(2023, 12, 10)),\n",
       " (datetime.date(2023, 12, 11), datetime.date(2023, 12, 17)),\n",
       " (datetime.date(2023, 12, 18), datetime.date(2023, 12, 24)),\n",
       " (datetime.date(2023, 12, 25), datetime.date(2023, 12, 31))]"
      ]
     },
     "execution_count": 3,
     "metadata": {},
     "output_type": "execute_result"
    }
   ],
   "source": [
    "# ISO Week Test 1\n",
    "sd = datetime.date(2023, 1, 2)\n",
    "ed = datetime.date(2023, 12, 31)\n",
    "Period(sd, ed, \"ISO Week\").get_dates(inclusive=True)"
   ]
  },
  {
   "cell_type": "code",
   "execution_count": 4,
   "id": "a2a2f764",
   "metadata": {},
   "outputs": [
    {
     "data": {
      "text/plain": [
       "[(datetime.date(2023, 1, 1), datetime.date(2023, 1, 1)),\n",
       " (datetime.date(2023, 1, 2), datetime.date(2023, 1, 8)),\n",
       " (datetime.date(2023, 1, 9), datetime.date(2023, 1, 11))]"
      ]
     },
     "execution_count": 4,
     "metadata": {},
     "output_type": "execute_result"
    }
   ],
   "source": [
    "# ISO Week Test 2\n",
    "sd = datetime.date(2023, 1, 1)\n",
    "ed = datetime.date(2023, 1, 12)\n",
    "Period(sd, ed, \"ISO Week\").get_dates(inclusive=False)"
   ]
  },
  {
   "cell_type": "code",
   "execution_count": 5,
   "id": "5fc5361d",
   "metadata": {},
   "outputs": [
    {
     "data": {
      "text/plain": [
       "[(datetime.date(2023, 1, 1), datetime.date(2023, 1, 1)),\n",
       " (datetime.date(2023, 1, 2), datetime.date(2023, 1, 8)),\n",
       " (datetime.date(2023, 1, 9), datetime.date(2023, 1, 15)),\n",
       " (datetime.date(2023, 1, 16), datetime.date(2023, 1, 22)),\n",
       " (datetime.date(2023, 1, 23), datetime.date(2023, 1, 29)),\n",
       " (datetime.date(2023, 1, 30), datetime.date(2023, 2, 5)),\n",
       " (datetime.date(2023, 2, 6), datetime.date(2023, 2, 12)),\n",
       " (datetime.date(2023, 2, 13), datetime.date(2023, 2, 19)),\n",
       " (datetime.date(2023, 2, 20), datetime.date(2023, 2, 26)),\n",
       " (datetime.date(2023, 2, 27), datetime.date(2023, 3, 5)),\n",
       " (datetime.date(2023, 3, 6), datetime.date(2023, 3, 12)),\n",
       " (datetime.date(2023, 3, 13), datetime.date(2023, 3, 15))]"
      ]
     },
     "execution_count": 5,
     "metadata": {},
     "output_type": "execute_result"
    }
   ],
   "source": [
    "# ISO Week Test 3\n",
    "sd = datetime.date(2023, 1, 1)\n",
    "ed = ed = datetime.date(2023, 3, 15)\n",
    "Period(sd, ed, \"ISO Week\").get_dates(inclusive=True)"
   ]
  },
  {
   "cell_type": "markdown",
   "id": "57006c62",
   "metadata": {},
   "source": [
    "**ISO Month (4 + 5 + 4)**:\n",
    "\n",
    "- 1/2/23-12/31/23 (inclusive=True)\n",
    "    - m01: 1/2/23 to 1/29/23\n",
    "    - m02: 1/30/23 to 3/5/23\n",
    "    - m03: 3/6/23 to 4/2/23\n",
    "    - m04: 4/3/23 to 4/30/23\n",
    "    - m05: 5/1/23 to 6/4/23\n",
    "    - m06: 6/5/23 to 7/2/23\n",
    "    - m07: 7/3/23 to 7/30/23\n",
    "    - m08: 7/31/23 to 9/3/23\n",
    "    - m09: 9/4/23 to 10/1/23\n",
    "    - m10: 10/2/23 to 10/29/23\n",
    "    - m11: 10/30/23 12/3/23\n",
    "    - m12: 12/4/23 to 12/31/23"
   ]
  },
  {
   "cell_type": "code",
   "execution_count": 6,
   "id": "f0adacac",
   "metadata": {
    "scrolled": true
   },
   "outputs": [
    {
     "data": {
      "text/plain": [
       "[(datetime.date(2023, 1, 2), datetime.date(2023, 1, 29)),\n",
       " (datetime.date(2023, 1, 30), datetime.date(2023, 3, 5)),\n",
       " (datetime.date(2023, 3, 6), datetime.date(2023, 4, 2)),\n",
       " (datetime.date(2023, 4, 3), datetime.date(2023, 4, 30)),\n",
       " (datetime.date(2023, 5, 1), datetime.date(2023, 6, 4)),\n",
       " (datetime.date(2023, 6, 5), datetime.date(2023, 7, 2)),\n",
       " (datetime.date(2023, 7, 3), datetime.date(2023, 7, 30)),\n",
       " (datetime.date(2023, 7, 31), datetime.date(2023, 9, 3)),\n",
       " (datetime.date(2023, 9, 4), datetime.date(2023, 10, 1)),\n",
       " (datetime.date(2023, 10, 2), datetime.date(2023, 10, 29)),\n",
       " (datetime.date(2023, 10, 30), datetime.date(2023, 12, 3)),\n",
       " (datetime.date(2023, 12, 4), datetime.date(2023, 12, 31))]"
      ]
     },
     "execution_count": 6,
     "metadata": {},
     "output_type": "execute_result"
    }
   ],
   "source": [
    "# ISO Month (4 + 5 + 4) Test\n",
    "sd = datetime.date(2023, 1, 2)\n",
    "ed = datetime.date(2023, 12, 31)\n",
    "Period(sd, ed, \"ISO Month (4 + 5 + 4)\").get_dates(inclusive=True)"
   ]
  },
  {
   "cell_type": "markdown",
   "id": "19a21204",
   "metadata": {},
   "source": [
    "**ISO Month (4 + 4 + 5)**:\n",
    "\n",
    "- 1/2/23-12/31/23 (inclusive=True)\n",
    "    - m01: 1/2/23 to 1/29/23\n",
    "    - m02: 1/30/23 to 2/26/23\n",
    "    - m03: 2/27/23 to 4/2/23\n",
    "    - m04: 4/3/23 to 4/30/23\n",
    "    - m05: 5/1/23 to 5/28/23\n",
    "    - m06: 5/29/23 to 7/2/23\n",
    "    - m07: 7/3/23 to 7/30/23\n",
    "    - m08: 7/31/23 to 8/27/23\n",
    "    - m09: 8/28/23 to 10/1/23\n",
    "    - m10: 10/2/23 to 10/29/23\n",
    "    - m11: 10/30/23 to 11/26/23\n",
    "    - m12: 11/27/23 to 12/31/23"
   ]
  },
  {
   "cell_type": "code",
   "execution_count": 7,
   "id": "13e9c01b",
   "metadata": {
    "scrolled": true
   },
   "outputs": [
    {
     "data": {
      "text/plain": [
       "[(datetime.date(2023, 1, 2), datetime.date(2023, 1, 29)),\n",
       " (datetime.date(2023, 1, 30), datetime.date(2023, 2, 26)),\n",
       " (datetime.date(2023, 2, 27), datetime.date(2023, 4, 2)),\n",
       " (datetime.date(2023, 4, 3), datetime.date(2023, 4, 30)),\n",
       " (datetime.date(2023, 5, 1), datetime.date(2023, 5, 28)),\n",
       " (datetime.date(2023, 5, 29), datetime.date(2023, 7, 2)),\n",
       " (datetime.date(2023, 7, 3), datetime.date(2023, 7, 30)),\n",
       " (datetime.date(2023, 7, 31), datetime.date(2023, 8, 27)),\n",
       " (datetime.date(2023, 8, 28), datetime.date(2023, 10, 1)),\n",
       " (datetime.date(2023, 10, 2), datetime.date(2023, 10, 29)),\n",
       " (datetime.date(2023, 10, 30), datetime.date(2023, 11, 26)),\n",
       " (datetime.date(2023, 11, 27), datetime.date(2023, 12, 31))]"
      ]
     },
     "execution_count": 7,
     "metadata": {},
     "output_type": "execute_result"
    }
   ],
   "source": [
    "# ISO Month (4 + 4 + 5) Test\n",
    "sd = datetime.date(2023, 1, 2)\n",
    "ed = datetime.date(2023, 12, 31)\n",
    "Period(sd, ed, \"ISO Month (4 + 4 + 5)\").get_dates(inclusive=True)"
   ]
  },
  {
   "cell_type": "markdown",
   "id": "cbd01492",
   "metadata": {},
   "source": [
    "**ISO Month (4 Weeks)**:\n",
    "\n",
    "- Standard: 1/2/23-12/31/23 (inclusive=True)\n",
    "    - m01: 1/2/23 to 1/29/23\n",
    "    - m02: 1/30/23 to 2/26/23\n",
    "    - m03: 2/27/23 to 3/26/23\n",
    "    - m04: 3/27/23 to 4/23/23\n",
    "    - m05: 4/24/23 to 5/21/23\n",
    "    - m06: 5/22/23 to 6/18/23\n",
    "    - m07: 6/19/23 to 7/16/23\n",
    "    - m08: 7/17/23 to 8/13/23\n",
    "    - m09: 8/14/23 to 9/10/23\n",
    "    - m10: 9/11/12 to 10/8/23\n",
    "    - m11: 10/9/23 to 11/5/23\n",
    "    - m12: 11/6/23 to 12/3/23\n",
    "    - m13: 12/4/23 to 12/31/23\n",
    "- Stub: 1/5/23-3/15/23 (inclusive=True)\n",
    "    - m01: 1/5/23 to 1/29/23\n",
    "    - m02: 1/30/23 to 2/26/23\n",
    "    - m03: 2/27/23 to 3/15/23"
   ]
  },
  {
   "cell_type": "code",
   "execution_count": 8,
   "id": "7de73ce2",
   "metadata": {
    "scrolled": true
   },
   "outputs": [
    {
     "data": {
      "text/plain": [
       "[(datetime.date(2023, 1, 2), datetime.date(2023, 1, 29)),\n",
       " (datetime.date(2023, 1, 30), datetime.date(2023, 2, 26)),\n",
       " (datetime.date(2023, 2, 27), datetime.date(2023, 3, 26)),\n",
       " (datetime.date(2023, 3, 27), datetime.date(2023, 4, 23)),\n",
       " (datetime.date(2023, 4, 24), datetime.date(2023, 5, 21)),\n",
       " (datetime.date(2023, 5, 22), datetime.date(2023, 6, 18)),\n",
       " (datetime.date(2023, 6, 19), datetime.date(2023, 7, 16)),\n",
       " (datetime.date(2023, 7, 17), datetime.date(2023, 8, 13)),\n",
       " (datetime.date(2023, 8, 14), datetime.date(2023, 9, 10)),\n",
       " (datetime.date(2023, 9, 11), datetime.date(2023, 10, 8)),\n",
       " (datetime.date(2023, 10, 9), datetime.date(2023, 11, 5)),\n",
       " (datetime.date(2023, 11, 6), datetime.date(2023, 12, 3)),\n",
       " (datetime.date(2023, 12, 4), datetime.date(2023, 12, 31))]"
      ]
     },
     "execution_count": 8,
     "metadata": {},
     "output_type": "execute_result"
    }
   ],
   "source": [
    "# ISO Month (4 Weeks) Test 1\n",
    "sd = datetime.date(2023, 1, 2)\n",
    "ed = datetime.date(2023, 12, 31)\n",
    "Period(sd, ed, \"ISO Month (4 Weeks)\").get_dates(inclusive=True)"
   ]
  },
  {
   "cell_type": "code",
   "execution_count": 9,
   "id": "91ddf8ce",
   "metadata": {
    "scrolled": true
   },
   "outputs": [
    {
     "data": {
      "text/plain": [
       "[(datetime.date(2023, 1, 5), datetime.date(2023, 1, 29)),\n",
       " (datetime.date(2023, 1, 30), datetime.date(2023, 2, 26)),\n",
       " (datetime.date(2023, 2, 27), datetime.date(2023, 3, 15))]"
      ]
     },
     "execution_count": 9,
     "metadata": {},
     "output_type": "execute_result"
    }
   ],
   "source": [
    "# ISO Month (4 Weeks) Test 2\n",
    "sd = datetime.date(2023, 1, 5)\n",
    "ed = datetime.date(2023, 3, 15)\n",
    "Period(sd, ed, \"ISO Month (4 Weeks)\").get_dates(inclusive=True)"
   ]
  },
  {
   "cell_type": "markdown",
   "id": "2214f18a",
   "metadata": {},
   "source": [
    "**ISO Quarter (13 Weeks)**:\n",
    "\n",
    "- Standard: 1/2/23-12/31/23 (inclusive=True)\n",
    "    - Q1: 1/2/23 to 4/2/23\n",
    "    - Q2: 4/3/23 to 7/2/23\n",
    "    - Q3: 7/3/23 to 10/1/23\n",
    "    - Q4: 10/2/23 to 12/31/23\n",
    "- Stub: 1/5/23-6/30/23 (inclusive=True)\n",
    "    - Q1: 1/5/23 to 4/2/23\n",
    "    - Q2: 4/3/23 to 6/30/23"
   ]
  },
  {
   "cell_type": "code",
   "execution_count": 10,
   "id": "ce1eb609",
   "metadata": {},
   "outputs": [
    {
     "data": {
      "text/plain": [
       "[(datetime.date(2023, 1, 2), datetime.date(2023, 4, 2)),\n",
       " (datetime.date(2023, 4, 3), datetime.date(2023, 7, 2)),\n",
       " (datetime.date(2023, 7, 3), datetime.date(2023, 10, 1)),\n",
       " (datetime.date(2023, 10, 2), datetime.date(2023, 12, 31))]"
      ]
     },
     "execution_count": 10,
     "metadata": {},
     "output_type": "execute_result"
    }
   ],
   "source": [
    "# ISO Quarter Test 1\n",
    "sd = datetime.date(2023, 1, 2)\n",
    "ed = datetime.date(2023, 12, 31)\n",
    "Period(sd, ed, \"ISO Quarter (13 Weeks)\").get_dates(inclusive=True)"
   ]
  },
  {
   "cell_type": "code",
   "execution_count": 11,
   "id": "1345b65d",
   "metadata": {},
   "outputs": [
    {
     "data": {
      "text/plain": [
       "[(datetime.date(2023, 1, 5), datetime.date(2023, 4, 2)),\n",
       " (datetime.date(2023, 4, 3), datetime.date(2023, 6, 30))]"
      ]
     },
     "execution_count": 11,
     "metadata": {},
     "output_type": "execute_result"
    }
   ],
   "source": [
    "# ISO Quarter Test 2\n",
    "sd = datetime.date(2023, 1, 5)\n",
    "ed = datetime.date(2023, 6, 30)\n",
    "Period(sd, ed, \"ISO Quarter (13 Weeks)\").get_dates(inclusive=True)"
   ]
  },
  {
   "cell_type": "markdown",
   "id": "64ae981e",
   "metadata": {},
   "source": [
    "**ISO Annual**:\n",
    "- Start date falls on beginning of ISO year: 1/2/23-12/29/24 (inclusive=True) => `[(1/2/23, 12/31/23), (1/1/24, 12/29/24)]`\n",
    "- Start date falls before ISO year: 1/1/23-12/29/24 (inclusive=True) => `[(1/1/23, 1/1/23), (1/2/23, 12/31/23), (1/1/24, 12/29/24)]`\n",
    "- Start date falls after ISO year: 6/30/23-12/29/24 (inclusive=True) => `[(6/30/23, 12/31/23), (1/1/24, 12/29/24)]`\n",
    "- End date falls before ISO year ends: 1/2/23-6/30/24 (inclusive=False) => `[(1/2/23, 12/31/23), (1/1/24, 6/29/24)]`"
   ]
  },
  {
   "cell_type": "code",
   "execution_count": 12,
   "id": "2cb99e29",
   "metadata": {},
   "outputs": [
    {
     "data": {
      "text/plain": [
       "[(datetime.date(2023, 1, 2), datetime.date(2023, 12, 31)),\n",
       " (datetime.date(2024, 1, 1), datetime.date(2024, 12, 29))]"
      ]
     },
     "execution_count": 12,
     "metadata": {},
     "output_type": "execute_result"
    }
   ],
   "source": [
    "# ISO Annual Test 1\n",
    "sd = datetime.date(2023, 1, 2)\n",
    "ed = datetime.date(2024, 12, 29)\n",
    "Period(sd, ed, \"ISO Annual\").get_dates(inclusive=True)"
   ]
  },
  {
   "cell_type": "code",
   "execution_count": 13,
   "id": "57b5446f",
   "metadata": {},
   "outputs": [
    {
     "data": {
      "text/plain": [
       "[(datetime.date(2023, 1, 1), datetime.date(2023, 1, 1)),\n",
       " (datetime.date(2023, 1, 2), datetime.date(2023, 12, 31)),\n",
       " (datetime.date(2024, 1, 1), datetime.date(2024, 12, 29))]"
      ]
     },
     "execution_count": 13,
     "metadata": {},
     "output_type": "execute_result"
    }
   ],
   "source": [
    "# ISO Annual Test 2\n",
    "sd = datetime.date(2023, 1, 1)\n",
    "ed = datetime.date(2024, 12, 29)\n",
    "Period(sd, ed, \"ISO Annual\").get_dates(inclusive=True)"
   ]
  },
  {
   "cell_type": "code",
   "execution_count": 14,
   "id": "e75c61e6",
   "metadata": {},
   "outputs": [
    {
     "data": {
      "text/plain": [
       "[(datetime.date(2023, 6, 30), datetime.date(2023, 12, 31)),\n",
       " (datetime.date(2024, 1, 1), datetime.date(2024, 12, 29))]"
      ]
     },
     "execution_count": 14,
     "metadata": {},
     "output_type": "execute_result"
    }
   ],
   "source": [
    "# ISO Annual Test 3\n",
    "sd = datetime.date(2023, 6, 30)\n",
    "ed = datetime.date(2024, 12, 29)\n",
    "Period(sd, ed, \"ISO Annual\").get_dates(inclusive=True)"
   ]
  },
  {
   "cell_type": "code",
   "execution_count": 15,
   "id": "534504ca",
   "metadata": {},
   "outputs": [
    {
     "data": {
      "text/plain": [
       "[(datetime.date(2023, 1, 2), datetime.date(2023, 12, 31)),\n",
       " (datetime.date(2024, 1, 1), datetime.date(2024, 6, 30))]"
      ]
     },
     "execution_count": 15,
     "metadata": {},
     "output_type": "execute_result"
    }
   ],
   "source": [
    "# ISO Annual Test 4\n",
    "sd = datetime.date(2023, 1, 2)\n",
    "ed = datetime.date(2024, 6, 30)\n",
    "Period(sd, ed, \"ISO Annual\").get_dates(inclusive=True)"
   ]
  },
  {
   "cell_type": "markdown",
   "id": "7bb514f6",
   "metadata": {},
   "source": [
    "### Calendar Date Tests\n",
    "\n",
    "**Weekly**\n",
    "- 1) Monday week start with Monday start date: 1/2/23-2/13/23 (inclusive=False) => `[(1/2/23, 1/8/23), (1/9/23, 1/15/23), (1/16/23, 1/22/23), (1/23/23, 1/29/23), (1/30/23, 2/5/23), (2/6/23, 2/12/23)]`\n",
    "- 2) Monday week start with non-Monday start date: 1/5/23-2/13/23 (inclusive=False) => `[(1/5/23, 1/8/23), (1/9/23, 1/15/23), (1/16/23, 1/22/23), (1/23/23, 1/29/23), (1/30/23, 2/5/23), (2/6/23, 2/12/23)]`\n",
    "- 3) Thursday week start with Thursday start: 1/5/23-2/13/23 (inclusive=False) => `[(1/5/23, 1/11/23), (1/12/23, 1/18/23), (1/19/23, 1/25/23), (1/26/23, 2/1/23), (2/2/23, 2/8/23), (2/9/23, 2/12/23)]`\n",
    "- 4) Thursday week start with pre-Thursday start date: 1/2/23-2/13/23 (inclusive=False) => `[(1/2/23, 1/4/23), (1/5/23, 1/11/23), (1/12/23, 1/18/23), (1/19/23, 1/25/23), (1/26/23, 2/1/23), (2/2/23, 2/8/23), (2/9/23, 2/12/23)]`\n",
    "- 5) Thursday week start with post-Thursday start date: 1/7/23-2/13/23 (inclusive=False) => `[(1/7/23, 1/11/23), (1/12/23, 1/18/23), (1/19/23, 1/25/23), (1/26/23, 2/1/23), (2/2/23, 2/8/23), (2/9/23, 2/12/23)]`"
   ]
  },
  {
   "cell_type": "code",
   "execution_count": 16,
   "id": "f63843c5",
   "metadata": {
    "scrolled": true
   },
   "outputs": [
    {
     "data": {
      "text/plain": [
       "[(datetime.date(2023, 1, 2), datetime.date(2023, 1, 8)),\n",
       " (datetime.date(2023, 1, 9), datetime.date(2023, 1, 15)),\n",
       " (datetime.date(2023, 1, 16), datetime.date(2023, 1, 22)),\n",
       " (datetime.date(2023, 1, 23), datetime.date(2023, 1, 29)),\n",
       " (datetime.date(2023, 1, 30), datetime.date(2023, 2, 5)),\n",
       " (datetime.date(2023, 2, 6), datetime.date(2023, 2, 12))]"
      ]
     },
     "execution_count": 16,
     "metadata": {},
     "output_type": "execute_result"
    }
   ],
   "source": [
    "# Weekly Test 1\n",
    "sd = datetime.date(2023, 1, 2)\n",
    "ed = datetime.date(2023, 2, 13)\n",
    "Period(sd, ed, \"Weekly\").get_dates(inclusive=False)"
   ]
  },
  {
   "cell_type": "code",
   "execution_count": 17,
   "id": "c9d3293b",
   "metadata": {},
   "outputs": [
    {
     "data": {
      "text/plain": [
       "[(datetime.date(2023, 1, 5), datetime.date(2023, 1, 8)),\n",
       " (datetime.date(2023, 1, 9), datetime.date(2023, 1, 15)),\n",
       " (datetime.date(2023, 1, 16), datetime.date(2023, 1, 22)),\n",
       " (datetime.date(2023, 1, 23), datetime.date(2023, 1, 29)),\n",
       " (datetime.date(2023, 1, 30), datetime.date(2023, 2, 5)),\n",
       " (datetime.date(2023, 2, 6), datetime.date(2023, 2, 12))]"
      ]
     },
     "execution_count": 17,
     "metadata": {},
     "output_type": "execute_result"
    }
   ],
   "source": [
    "# Weekly Test 2\n",
    "sd = datetime.date(2023, 1, 5)\n",
    "ed = datetime.date(2023, 2, 13)\n",
    "Period(sd, ed, \"Weekly\").get_dates(inclusive=False)"
   ]
  },
  {
   "cell_type": "code",
   "execution_count": 18,
   "id": "0d7913ba",
   "metadata": {},
   "outputs": [
    {
     "name": "stdout",
     "output_type": "stream",
     "text": [
      "\n"
     ]
    }
   ],
   "source": [
    "# Weekly Test 3 - WON'T WORK WHEN IMPORTING CLASS -> CAN ONLY SET/RESET CONTEXTVAR FROM SCRIPT WITH CLASS DEFINITION, OR MANUALLY CHANGE IT IN SCRIPT THEN RUN TEST\n",
    "# weekday_start.set(4)\n",
    "# sd = datetime.date(2023, 1, 5)\n",
    "# ed = datetime.date(2023, 2, 13)\n",
    "# Period(sd, ed, \"Weekly\").get_dates(inclusive=False)\n",
    "\n",
    "\"\"\"\n",
    "# OUTPUT\n",
    "[(datetime.date(2023, 1, 5), datetime.date(2023, 1, 11)),\n",
    " (datetime.date(2023, 1, 12), datetime.date(2023, 1, 18)),\n",
    " (datetime.date(2023, 1, 19), datetime.date(2023, 1, 25)),\n",
    " (datetime.date(2023, 1, 26), datetime.date(2023, 2, 1)),\n",
    " (datetime.date(2023, 2, 2), datetime.date(2023, 2, 8)),\n",
    " (datetime.date(2023, 2, 9), datetime.date(2023, 2, 12))]\n",
    "\"\"\"\n",
    "print()"
   ]
  },
  {
   "cell_type": "code",
   "execution_count": 19,
   "id": "7b9dca27",
   "metadata": {},
   "outputs": [
    {
     "name": "stdout",
     "output_type": "stream",
     "text": [
      "\n"
     ]
    }
   ],
   "source": [
    "# Weekly Test 4 - WON'T WORK WHEN IMPORTING CLASS -> CAN ONLY SET/RESET CONTEXTVAR FROM SCRIPT WITH CLASS DEFINITION, OR MANUALLY CHANGE IT IN SCRIPT THEN RUN TEST\n",
    "# weekday_start.set(4)\n",
    "# sd = datetime.date(2023, 1, 2)\n",
    "# ed = datetime.date(2023, 2, 13)\n",
    "# Period(sd, ed, \"Weekly\").get_dates(inclusive=False)\n",
    "\n",
    "\"\"\"\n",
    "#OUTPUT\n",
    "[(datetime.date(2023, 1, 2), datetime.date(2023, 1, 4)),\n",
    " (datetime.date(2023, 1, 5), datetime.date(2023, 1, 11)),\n",
    " (datetime.date(2023, 1, 12), datetime.date(2023, 1, 18)),\n",
    " (datetime.date(2023, 1, 19), datetime.date(2023, 1, 25)),\n",
    " (datetime.date(2023, 1, 26), datetime.date(2023, 2, 1)),\n",
    " (datetime.date(2023, 2, 2), datetime.date(2023, 2, 8)),\n",
    " (datetime.date(2023, 2, 9), datetime.date(2023, 2, 12))]\n",
    "\"\"\"\n",
    "print()"
   ]
  },
  {
   "cell_type": "code",
   "execution_count": 20,
   "id": "ede118b7",
   "metadata": {},
   "outputs": [
    {
     "name": "stdout",
     "output_type": "stream",
     "text": [
      "\n"
     ]
    }
   ],
   "source": [
    "# Weekly Test 5 - WON'T WORK WHEN IMPORTING CLASS -> CAN ONLY SET/RESET CONTEXTVAR FROM SCRIPT WITH CLASS DEFINITION, OR MANUALLY CHANGE IT IN SCRIPT THEN RUN TEST\n",
    "# weekday_start.set(4)\n",
    "# sd = datetime.date(2023, 1, 7)\n",
    "# ed = datetime.date(2023, 2, 13)\n",
    "# Period(sd, ed, \"Weekly\").get_dates(inclusive=False)\n",
    "\n",
    "\"\"\"\n",
    "#OUTPUT\n",
    "[(datetime.date(2023, 1, 7), datetime.date(2023, 1, 11)),\n",
    " (datetime.date(2023, 1, 12), datetime.date(2023, 1, 18)),\n",
    " (datetime.date(2023, 1, 19), datetime.date(2023, 1, 25)),\n",
    " (datetime.date(2023, 1, 26), datetime.date(2023, 2, 1)),\n",
    " (datetime.date(2023, 2, 2), datetime.date(2023, 2, 8)),\n",
    " (datetime.date(2023, 2, 9), datetime.date(2023, 2, 12))]\n",
    "\"\"\"\n",
    "print()"
   ]
  },
  {
   "cell_type": "markdown",
   "id": "3fc9656d",
   "metadata": {},
   "source": [
    "**Biweekly**\n",
    "- Biweekly Monday week standard: 1/2/12-2/13/23 (inclusive=False) => `[(1/2/23, 1/15/23), (1/16/23, 1/29/23), (1/30/23, 2/12/23)]`\n",
    "- Biweekly Monday week non-Monday start: 1/7/12-2/13/23 (inclusive=False) => `[(1/7/23, 1/15/23), (1/16/23, 1/29/23), (1/30/23, 2/12/23)]`"
   ]
  },
  {
   "cell_type": "code",
   "execution_count": 21,
   "id": "88000b99",
   "metadata": {},
   "outputs": [
    {
     "data": {
      "text/plain": [
       "[(datetime.date(2023, 1, 2), datetime.date(2023, 1, 15)),\n",
       " (datetime.date(2023, 1, 16), datetime.date(2023, 1, 29)),\n",
       " (datetime.date(2023, 1, 30), datetime.date(2023, 2, 12))]"
      ]
     },
     "execution_count": 21,
     "metadata": {},
     "output_type": "execute_result"
    }
   ],
   "source": [
    "# Biweekly Test 1\n",
    "sd = datetime.date(2023, 1, 2)\n",
    "ed = datetime.date(2023, 2, 13)\n",
    "Period(sd, ed, \"Biweekly\").get_dates(inclusive=False)"
   ]
  },
  {
   "cell_type": "code",
   "execution_count": 22,
   "id": "fa8447be",
   "metadata": {},
   "outputs": [
    {
     "data": {
      "text/plain": [
       "[(datetime.date(2023, 1, 7), datetime.date(2023, 1, 15)),\n",
       " (datetime.date(2023, 1, 16), datetime.date(2023, 1, 29)),\n",
       " (datetime.date(2023, 1, 30), datetime.date(2023, 2, 12))]"
      ]
     },
     "execution_count": 22,
     "metadata": {},
     "output_type": "execute_result"
    }
   ],
   "source": [
    "# Biweekly Test 2\n",
    "sd = datetime.date(2023, 1, 7)\n",
    "ed = datetime.date(2023, 2, 13)\n",
    "Period(sd, ed, \"Biweekly\").get_dates(inclusive=False)"
   ]
  },
  {
   "cell_type": "markdown",
   "id": "eef243ac",
   "metadata": {},
   "source": [
    "**Calendar Month and Calendar Quarter**\n",
    "\n",
    "- Calendar Month: 1/7/23-3/15/23 (inclusive=True) => `[(1/7/23, 1/31/23), (2/1/23, 2/28/23), (3/1/23, 3/15/23)]`\n",
    "- Calendar Quarter: 1/1/23-12/31/23 (inclusive=True) => `[(1/1/23, 3/31/23), (4/1/23, 6/30/23), (7/1/23, 9/30/23), (10/1/23, 12/31/23)]`\n",
    "- Calendar Quarter (with stub): 1/7/23-8/10/23 (inclusive=True) => `[(1/7/23, 3/31/23), (4/1/23, 6/30/23), (7/1/23, 8/10/23)]`\n",
    "- Calendar Quarter (Oct FY): 11/1/23-4/30/24 (inclusive=True) => `[(11/1/23, 1/31/24), (2/1/24, 4/30/24)]`"
   ]
  },
  {
   "cell_type": "code",
   "execution_count": 23,
   "id": "c2ee3b6f",
   "metadata": {},
   "outputs": [
    {
     "data": {
      "text/plain": [
       "[(datetime.date(2023, 1, 7), datetime.date(2023, 1, 31)),\n",
       " (datetime.date(2023, 2, 1), datetime.date(2023, 2, 28)),\n",
       " (datetime.date(2023, 3, 1), datetime.date(2023, 3, 15))]"
      ]
     },
     "execution_count": 23,
     "metadata": {},
     "output_type": "execute_result"
    }
   ],
   "source": [
    "# Calendar Month Test\n",
    "sd = datetime.date(2023, 1, 7)\n",
    "ed = datetime.date(2023, 3, 15)\n",
    "Period(sd, ed, \"Calendar Month\").get_dates(inclusive=True)"
   ]
  },
  {
   "cell_type": "code",
   "execution_count": 24,
   "id": "4a904412",
   "metadata": {},
   "outputs": [
    {
     "data": {
      "text/plain": [
       "[(datetime.date(2023, 1, 1), datetime.date(2023, 3, 31)),\n",
       " (datetime.date(2023, 4, 1), datetime.date(2023, 6, 30)),\n",
       " (datetime.date(2023, 7, 1), datetime.date(2023, 9, 30)),\n",
       " (datetime.date(2023, 10, 1), datetime.date(2023, 12, 31))]"
      ]
     },
     "execution_count": 24,
     "metadata": {},
     "output_type": "execute_result"
    }
   ],
   "source": [
    "# Calendar Quarter Test 1\n",
    "sd = datetime.date(2023, 1, 1)\n",
    "ed = datetime.date(2023, 12, 31)\n",
    "Period(sd, ed, \"Calendar Quarter\").get_dates(inclusive=True)"
   ]
  },
  {
   "cell_type": "code",
   "execution_count": 25,
   "id": "015357a2",
   "metadata": {},
   "outputs": [
    {
     "data": {
      "text/plain": [
       "[(datetime.date(2023, 1, 7), datetime.date(2023, 3, 31)),\n",
       " (datetime.date(2023, 4, 1), datetime.date(2023, 6, 30)),\n",
       " (datetime.date(2023, 7, 1), datetime.date(2023, 8, 10))]"
      ]
     },
     "execution_count": 25,
     "metadata": {},
     "output_type": "execute_result"
    }
   ],
   "source": [
    "# Calendar Quarter Test 2\n",
    "sd = datetime.date(2023, 1, 7)\n",
    "ed = datetime.date(2023, 8, 10)\n",
    "Period(sd, ed, \"Calendar Quarter\").get_dates(inclusive=True)"
   ]
  },
  {
   "cell_type": "code",
   "execution_count": 26,
   "id": "8c7a0845",
   "metadata": {},
   "outputs": [
    {
     "data": {
      "text/plain": [
       "[(datetime.date(2023, 11, 1), datetime.date(2024, 1, 31)),\n",
       " (datetime.date(2024, 2, 1), datetime.date(2024, 4, 30))]"
      ]
     },
     "execution_count": 26,
     "metadata": {},
     "output_type": "execute_result"
    }
   ],
   "source": [
    "# Calendar Quarter Test 3\n",
    "sd = datetime.date(2023, 11, 1)\n",
    "ed = datetime.date(2024, 4, 30)\n",
    "Period(sd, ed, \"Calendar Quarter\").get_dates(inclusive=True)"
   ]
  },
  {
   "cell_type": "markdown",
   "id": "f40b8620",
   "metadata": {},
   "source": [
    "**Calendar Year and Annually**\n",
    "\n",
    "- Calendar Year (assumes Jan-Dec FY, with stub): 6/30/23-7/1/25 (inclusive=False) => `[(6/30/23, 12/31/23), (1/1/24, 12/31/24), (1/1/25, 6/30/25)]`\n",
    "- Annually (non calendar FY ending 10/31): 11/1/21-10/31/23 (inclusive=True) => `[(11/1/21, 10/31/22), (11/1/22, 10/31/23)]`"
   ]
  },
  {
   "cell_type": "code",
   "execution_count": 27,
   "id": "32442ed1",
   "metadata": {},
   "outputs": [
    {
     "data": {
      "text/plain": [
       "[(datetime.date(2023, 1, 1), datetime.date(2023, 12, 31)),\n",
       " (datetime.date(2024, 1, 1), datetime.date(2024, 12, 31)),\n",
       " (datetime.date(2025, 1, 1), datetime.date(2025, 12, 31))]"
      ]
     },
     "execution_count": 27,
     "metadata": {},
     "output_type": "execute_result"
    }
   ],
   "source": [
    "# Calendar Year Test 1\n",
    "sd = datetime.date(2023, 1, 1)\n",
    "ed = datetime.date(2025, 12, 31)\n",
    "Period(sd, ed, \"Calendar Year\").get_dates(inclusive=True)"
   ]
  },
  {
   "cell_type": "code",
   "execution_count": 28,
   "id": "1a74a0e0",
   "metadata": {},
   "outputs": [
    {
     "data": {
      "text/plain": [
       "[(datetime.date(2023, 6, 30), datetime.date(2023, 12, 31)),\n",
       " (datetime.date(2024, 1, 1), datetime.date(2024, 12, 31)),\n",
       " (datetime.date(2025, 1, 1), datetime.date(2025, 10, 31))]"
      ]
     },
     "execution_count": 28,
     "metadata": {},
     "output_type": "execute_result"
    }
   ],
   "source": [
    "# Calendar Year Test 2\n",
    "sd = datetime.date(2023, 6, 30)\n",
    "ed = datetime.date(2025, 11, 1)\n",
    "Period(sd, ed, \"Calendar Year\").get_dates(inclusive=False)"
   ]
  },
  {
   "cell_type": "code",
   "execution_count": 29,
   "id": "1c992ad4",
   "metadata": {},
   "outputs": [
    {
     "data": {
      "text/plain": [
       "[(datetime.date(2023, 11, 1), datetime.date(2024, 10, 31)),\n",
       " (datetime.date(2024, 11, 1), datetime.date(2025, 10, 31))]"
      ]
     },
     "execution_count": 29,
     "metadata": {},
     "output_type": "execute_result"
    }
   ],
   "source": [
    "# Annually Test\n",
    "sd = datetime.date(2023, 11, 1)\n",
    "ed = datetime.date(2025, 11, 1)\n",
    "Period(sd, ed, \"Annually\").get_dates(inclusive=False)"
   ]
  },
  {
   "cell_type": "markdown",
   "id": "b001b193",
   "metadata": {},
   "source": [
    "### Edge Case Tests\n",
    "\n",
    "- End date is before start date: Calendar Quarter 11/1/23-4/30/23 (inclusive=True) => ValueError\n",
    "- End date would be the first day of a new period but is inclusive: Calendar Year 1/1/23-1/1/25 (inclusive=True) => `[(1/1/23), (12/31/23), (1/1/24, 12/31/24), (1/1/25, 1/1/25)]`\n",
    "- Missing start_date/missing end_date => ValueError\n",
    "- Missing periodicity => defaults to ISO Week"
   ]
  },
  {
   "cell_type": "code",
   "execution_count": 30,
   "id": "4c51f9da",
   "metadata": {},
   "outputs": [
    {
     "name": "stdout",
     "output_type": "stream",
     "text": [
      "End date must be after start date.\n"
     ]
    }
   ],
   "source": [
    "# Edge Cases Test 1\n",
    "sd = datetime.date(2023, 11, 1)\n",
    "ed = datetime.date(2023, 4, 30)\n",
    "try:\n",
    "    Period(sd, ed, \"Calendar Quarter\").get_dates(inclusive=True)\n",
    "except ValueError as e:\n",
    "    print(e)"
   ]
  },
  {
   "cell_type": "code",
   "execution_count": 31,
   "id": "a6af4524",
   "metadata": {},
   "outputs": [
    {
     "data": {
      "text/plain": [
       "[(datetime.date(2023, 11, 1), datetime.date(2024, 10, 31)),\n",
       " (datetime.date(2024, 11, 1), datetime.date(2025, 10, 31)),\n",
       " (datetime.date(2025, 11, 1), datetime.date(2025, 11, 1))]"
      ]
     },
     "execution_count": 31,
     "metadata": {},
     "output_type": "execute_result"
    }
   ],
   "source": [
    "# Edge Case Test 2\n",
    "sd = datetime.date(2023, 11, 1)\n",
    "ed = datetime.date(2025, 11, 1)\n",
    "Period(sd, ed, \"Annually\").get_dates(inclusive=True)"
   ]
  },
  {
   "cell_type": "code",
   "execution_count": 32,
   "id": "a49c200e",
   "metadata": {},
   "outputs": [
    {
     "name": "stdout",
     "output_type": "stream",
     "text": [
      "Please provide a valid start date.\n"
     ]
    }
   ],
   "source": [
    "# Edge Case Test 3a\n",
    "sd = None\n",
    "ed = datetime.date(2025, 1, 1)\n",
    "try:\n",
    "    Period(sd, ed, \"Calendar Year\").get_dates(inclusive=True)\n",
    "except ValueError as e:\n",
    "    print(e)"
   ]
  },
  {
   "cell_type": "code",
   "execution_count": 33,
   "id": "6dd0e2ed",
   "metadata": {},
   "outputs": [
    {
     "name": "stdout",
     "output_type": "stream",
     "text": [
      "Please provide a valid end date.\n"
     ]
    }
   ],
   "source": [
    "# Edge Case Test 3b\n",
    "sd = datetime.date(2023, 1, 1)\n",
    "ed = None\n",
    "try:\n",
    "    Period(sd, ed, \"Calendar Year\").get_dates(inclusive=True)\n",
    "except ValueError as e:\n",
    "    print(e)"
   ]
  },
  {
   "cell_type": "code",
   "execution_count": 34,
   "id": "10768985",
   "metadata": {},
   "outputs": [
    {
     "data": {
      "text/plain": [
       "[(datetime.date(2023, 11, 4), datetime.date(2023, 11, 5)),\n",
       " (datetime.date(2023, 11, 6), datetime.date(2023, 11, 12)),\n",
       " (datetime.date(2023, 11, 13), datetime.date(2023, 11, 19)),\n",
       " (datetime.date(2023, 11, 20), datetime.date(2023, 11, 26)),\n",
       " (datetime.date(2023, 11, 27), datetime.date(2023, 12, 3))]"
      ]
     },
     "execution_count": 34,
     "metadata": {},
     "output_type": "execute_result"
    }
   ],
   "source": [
    "# Edge Case Test 4\n",
    "sd = datetime.date(2023, 11, 4)\n",
    "ed = datetime.date(2023, 12, 4)\n",
    "Period(sd, ed, ).get_dates()"
   ]
  },
  {
   "cell_type": "markdown",
   "id": "1f6af3de",
   "metadata": {},
   "source": [
    "### Bin Conversion Tests\n",
    "\n",
    "- Weekly (1/1/23 to 6/30/23; inclusive=True) to Calendar Month\n",
    "    - Input: weeks `[(1/1-1/1), (1/2-1/8), ... (6/26-6/30)]`\n",
    "    - Output: `[(1/1/23, 1/31/23), (2/1/23, 2/28/23), (3/1/23, 3/31/23), (4/1/23, 4/30/23), (5/1/23, 5/31/23), (6/1/23, 6/30/23)]`\n",
    "- Calendar Quarter (11/1/23 to 11/1/25, inclusive=False) to Annually\n",
    "    - Input: `[(11/1/23, 1/31/24), (2/1/24, 4/30/24), (5/1/24, 7/31/24), (8/1/24, 10/31/24), (11/1/24, 1/31/25), (2/1/25, 4/30/25), (5/1/25, 7/31/25), (8/1/25, 10/31/25)]`\n",
    "    - Output: `[(11/1/23, 10/31/24), (11/1/24, 10/31/25)]`\n",
    "- Empty list => []"
   ]
  },
  {
   "cell_type": "code",
   "execution_count": 35,
   "id": "4e0f47fd",
   "metadata": {},
   "outputs": [
    {
     "name": "stdout",
     "output_type": "stream",
     "text": [
      "[(datetime.date(2023, 1, 1), datetime.date(2023, 1, 1)), (datetime.date(2023, 1, 2), datetime.date(2023, 1, 8)), (datetime.date(2023, 1, 9), datetime.date(2023, 1, 15)), (datetime.date(2023, 1, 16), datetime.date(2023, 1, 22)), (datetime.date(2023, 1, 23), datetime.date(2023, 1, 29)), (datetime.date(2023, 1, 30), datetime.date(2023, 2, 5)), (datetime.date(2023, 2, 6), datetime.date(2023, 2, 12)), (datetime.date(2023, 2, 13), datetime.date(2023, 2, 19)), (datetime.date(2023, 2, 20), datetime.date(2023, 2, 26)), (datetime.date(2023, 2, 27), datetime.date(2023, 3, 5)), (datetime.date(2023, 3, 6), datetime.date(2023, 3, 12)), (datetime.date(2023, 3, 13), datetime.date(2023, 3, 19)), (datetime.date(2023, 3, 20), datetime.date(2023, 3, 26)), (datetime.date(2023, 3, 27), datetime.date(2023, 4, 2)), (datetime.date(2023, 4, 3), datetime.date(2023, 4, 9)), (datetime.date(2023, 4, 10), datetime.date(2023, 4, 16)), (datetime.date(2023, 4, 17), datetime.date(2023, 4, 23)), (datetime.date(2023, 4, 24), datetime.date(2023, 4, 30)), (datetime.date(2023, 5, 1), datetime.date(2023, 5, 7)), (datetime.date(2023, 5, 8), datetime.date(2023, 5, 14)), (datetime.date(2023, 5, 15), datetime.date(2023, 5, 21)), (datetime.date(2023, 5, 22), datetime.date(2023, 5, 28)), (datetime.date(2023, 5, 29), datetime.date(2023, 6, 4)), (datetime.date(2023, 6, 5), datetime.date(2023, 6, 11)), (datetime.date(2023, 6, 12), datetime.date(2023, 6, 18)), (datetime.date(2023, 6, 19), datetime.date(2023, 6, 25)), (datetime.date(2023, 6, 26), datetime.date(2023, 6, 30))]\n"
     ]
    },
    {
     "data": {
      "text/plain": [
       "[(datetime.date(2023, 1, 1), datetime.date(2023, 1, 31)),\n",
       " (datetime.date(2023, 2, 1), datetime.date(2023, 2, 28)),\n",
       " (datetime.date(2023, 3, 1), datetime.date(2023, 3, 31)),\n",
       " (datetime.date(2023, 4, 1), datetime.date(2023, 4, 30)),\n",
       " (datetime.date(2023, 5, 1), datetime.date(2023, 5, 31)),\n",
       " (datetime.date(2023, 6, 1), datetime.date(2023, 6, 30))]"
      ]
     },
     "execution_count": 35,
     "metadata": {},
     "output_type": "execute_result"
    }
   ],
   "source": [
    "# Bin Conversion Test 1\n",
    "\n",
    "sd = datetime.date(2023, 1, 1)\n",
    "ed = datetime.date(2023, 6, 30)\n",
    "fab = Period(sd, ed, \"Weekly\")\n",
    "orig_bins = fab.get_dates(inclusive=True)\n",
    "print(orig_bins)\n",
    "fab.convert_dates(orig_bins, \"Calendar Month\")"
   ]
  },
  {
   "cell_type": "code",
   "execution_count": 36,
   "id": "e02c3ede",
   "metadata": {},
   "outputs": [
    {
     "name": "stdout",
     "output_type": "stream",
     "text": [
      "[(datetime.date(2023, 11, 1), datetime.date(2024, 1, 31)), (datetime.date(2024, 2, 1), datetime.date(2024, 4, 30)), (datetime.date(2024, 5, 1), datetime.date(2024, 7, 31)), (datetime.date(2024, 8, 1), datetime.date(2024, 10, 31)), (datetime.date(2024, 11, 1), datetime.date(2025, 1, 31)), (datetime.date(2025, 2, 1), datetime.date(2025, 4, 30)), (datetime.date(2025, 5, 1), datetime.date(2025, 7, 31)), (datetime.date(2025, 8, 1), datetime.date(2025, 10, 31))]\n"
     ]
    },
    {
     "data": {
      "text/plain": [
       "[(datetime.date(2023, 11, 1), datetime.date(2024, 10, 31)),\n",
       " (datetime.date(2024, 11, 1), datetime.date(2025, 10, 31))]"
      ]
     },
     "execution_count": 36,
     "metadata": {},
     "output_type": "execute_result"
    }
   ],
   "source": [
    "# Bin Conversion Test 2\n",
    "sd = datetime.date(2023, 11, 1)\n",
    "ed = datetime.date(2025, 11, 1)\n",
    "fab = Period(sd, ed, \"Calendar Quarter\")\n",
    "orig_bins = fab.get_dates()\n",
    "print(orig_bins)\n",
    "fab.convert_dates(orig_bins, \"Annually\")"
   ]
  },
  {
   "cell_type": "code",
   "execution_count": 37,
   "id": "b2282835",
   "metadata": {},
   "outputs": [
    {
     "name": "stdout",
     "output_type": "stream",
     "text": [
      "End date must be after start date.\n"
     ]
    }
   ],
   "source": [
    "# Bin Conversion Test 3\n",
    "sd = datetime.date(2023, 1, 2)\n",
    "ed = datetime.date(2023, 1, 1)\n",
    "fab = Period(sd, ed, \"Weekly\")\n",
    "try:\n",
    "    orig_bins = fab.get_dates(inclusive=True)\n",
    "    print(orig_bins)\n",
    "    fab.convert_dates(orig_bins, \"Calendar Month\")\n",
    "except ValueError as e:\n",
    "    print(e)"
   ]
  },
  {
   "cell_type": "markdown",
   "id": "3cf5069d",
   "metadata": {},
   "source": [
    "### Financial Data Redistribution Tests\n",
    "\n",
    "Data: Calendar Monthly 1/1/23-3/31/23 (inclusive=True), `[1550, 2100, 3100]`\n",
    "\n",
    "- Convert to Calendar Monthly (no change) =>  \n",
    "                                                 {(1/1/23, 1/31/23): 1550,  \n",
    "                                                  (2/1/23, 2/28/23): 2100,  \n",
    "                                                  (3/1/23, 3/31/23): 3100}\n",
    "- Convert to Calendar Quarter => {(1/1/23, 3/31/23): 6750}\n",
    "- Convert to ISO Week =>   \n",
    "                             {(1/1/23, 1/1/23): 50,  \n",
    "                              (1/2/23, 1/8/23): 350,  \n",
    "                              (1/9/23, 1/15/23): 350,  \n",
    "                              (1/16/23, 1/22/23): 350,  \n",
    "                              (1/23/23, 1/29/23): 350,  \n",
    "                              (1/30/23, 2/5/23): 475,  \n",
    "                              (2/6/23, 2/12/23): 525,  \n",
    "                              (2/13/23, 2/19/23): 525,  \n",
    "                              (2/20/23, 2/26/23): 525,  \n",
    "                              (2/27/23, 3/5/23): 650,  \n",
    "                              (3/6/23, 3/12/23): 700,  \n",
    "                              (3/13/23, 3/19/23): 700,  \n",
    "                              (3/20/23, 3/26/23): 700,  \n",
    "                              (3/27/23, 3/31/23): 500}\n"
   ]
  },
  {
   "cell_type": "code",
   "execution_count": 38,
   "id": "bf248513",
   "metadata": {},
   "outputs": [],
   "source": [
    "# Calendar Month Sales data (1/1/23 - 3/31/23)\n",
    "data = [\n",
    "    1550,  # 31*50\n",
    "    2100,  # 28*75\n",
    "    3100,  # 31*100\n",
    "]\n",
    "sd = datetime.date(2023, 1, 1)\n",
    "ed = datetime.date(2023, 3, 31)\n",
    "\n",
    "tmp = Period(sd, ed, \"Calendar Month\")\n",
    "bins = tmp.get_dates(inclusive=True)"
   ]
  },
  {
   "cell_type": "code",
   "execution_count": 39,
   "id": "6155cc0d",
   "metadata": {},
   "outputs": [
    {
     "data": {
      "text/plain": [
       "OrderedDict([((datetime.date(2023, 1, 1), datetime.date(2023, 1, 31)),\n",
       "              Decimal('1550')),\n",
       "             ((datetime.date(2023, 2, 1), datetime.date(2023, 2, 28)),\n",
       "              Decimal('2100')),\n",
       "             ((datetime.date(2023, 3, 1), datetime.date(2023, 3, 31)),\n",
       "              Decimal('3100'))])"
      ]
     },
     "execution_count": 39,
     "metadata": {},
     "output_type": "execute_result"
    }
   ],
   "source": [
    "# Redistribution Test 1\n",
    "tmp.redistribute_data(data, bins, \"Calendar Month\")"
   ]
  },
  {
   "cell_type": "code",
   "execution_count": 40,
   "id": "b162ca23",
   "metadata": {},
   "outputs": [
    {
     "data": {
      "text/plain": [
       "OrderedDict([((datetime.date(2023, 1, 1), datetime.date(2023, 3, 31)),\n",
       "              Decimal('6750'))])"
      ]
     },
     "execution_count": 40,
     "metadata": {},
     "output_type": "execute_result"
    }
   ],
   "source": [
    "# Redistribution Test 2\n",
    "tmp.redistribute_data(data, bins, \"Calendar Quarter\")"
   ]
  },
  {
   "cell_type": "code",
   "execution_count": 41,
   "id": "a42258b1",
   "metadata": {},
   "outputs": [
    {
     "data": {
      "text/plain": [
       "OrderedDict([((datetime.date(2023, 1, 1), datetime.date(2023, 1, 1)),\n",
       "              Decimal('50')),\n",
       "             ((datetime.date(2023, 1, 2), datetime.date(2023, 1, 8)),\n",
       "              Decimal('350')),\n",
       "             ((datetime.date(2023, 1, 9), datetime.date(2023, 1, 15)),\n",
       "              Decimal('350')),\n",
       "             ((datetime.date(2023, 1, 16), datetime.date(2023, 1, 22)),\n",
       "              Decimal('350')),\n",
       "             ((datetime.date(2023, 1, 23), datetime.date(2023, 1, 29)),\n",
       "              Decimal('350')),\n",
       "             ((datetime.date(2023, 1, 30), datetime.date(2023, 2, 5)),\n",
       "              Decimal('475')),\n",
       "             ((datetime.date(2023, 2, 6), datetime.date(2023, 2, 12)),\n",
       "              Decimal('525')),\n",
       "             ((datetime.date(2023, 2, 13), datetime.date(2023, 2, 19)),\n",
       "              Decimal('525')),\n",
       "             ((datetime.date(2023, 2, 20), datetime.date(2023, 2, 26)),\n",
       "              Decimal('525')),\n",
       "             ((datetime.date(2023, 2, 27), datetime.date(2023, 3, 5)),\n",
       "              Decimal('650')),\n",
       "             ((datetime.date(2023, 3, 6), datetime.date(2023, 3, 12)),\n",
       "              Decimal('700')),\n",
       "             ((datetime.date(2023, 3, 13), datetime.date(2023, 3, 19)),\n",
       "              Decimal('700')),\n",
       "             ((datetime.date(2023, 3, 20), datetime.date(2023, 3, 26)),\n",
       "              Decimal('700')),\n",
       "             ((datetime.date(2023, 3, 27), datetime.date(2023, 3, 31)),\n",
       "              Decimal('500'))])"
      ]
     },
     "execution_count": 41,
     "metadata": {},
     "output_type": "execute_result"
    }
   ],
   "source": [
    "# Redistribution Test 3\n",
    "tmp.redistribute_data(data, bins, \"ISO Week\")"
   ]
  }
 ],
 "metadata": {
  "hide_input": false,
  "kernelspec": {
   "display_name": "Python 3 (ipykernel)",
   "language": "python",
   "name": "python3"
  },
  "language_info": {
   "codemirror_mode": {
    "name": "ipython",
    "version": 3
   },
   "file_extension": ".py",
   "mimetype": "text/x-python",
   "name": "python",
   "nbconvert_exporter": "python",
   "pygments_lexer": "ipython3",
   "version": "3.10.2"
  }
 },
 "nbformat": 4,
 "nbformat_minor": 5
}
